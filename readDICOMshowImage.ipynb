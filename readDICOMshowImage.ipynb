{
 "cells": [
  {
   "cell_type": "code",
   "execution_count": 1,
   "metadata": {},
   "outputs": [],
   "source": [
    "#  dcmpandas installed directly from github with ....\n",
    "#  pip install -e git+https://github.com/dov/dcmpandas#egg=dcmpandas\n",
    "# import dcmpandas as dp\n",
    "# dp.scrape('.')\n",
    "\n",
    "\n",
    "#import matplotlib.pyplot as plt\n",
    "\n",
    "# pip install pydicom\n",
    "# pip install Pillow -U\n",
    "\n",
    "import numpy as np\n",
    "\n",
    "import pydicom \n",
    "from  PIL import Image\n"
   ]
  },
  {
   "cell_type": "markdown",
   "metadata": {},
   "source": []
  },
  {
   "cell_type": "code",
   "execution_count": 2,
   "metadata": {},
   "outputs": [],
   "source": [
    "dicom = pydicom.dcmread('./dicom/ILO_Standards/4EF026B7') #read the dicom file into a variable\n",
    "image_pixel_array = dicom.pixel_array.astype(float) # extract the image pixel data from the dicom dictionary\n",
    "rescaled_image_pixel_array = (np.maximum(image_pixel_array,0)/image_pixel_array.max())*255 # float pixels\n",
    "final_image_pixel_array = np.uint8(rescaled_image_pixel_array) #convert to integer pixels\n",
    "finale_image = Image.fromarray(final_image_pixel_array) #use image library to convert array of pixel data to an image\n",
    "finale_image.show() # will open a copy of the image in Preview\n",
    "# finale_image.save('CXR.PNG') #  Saves to file\n",
    "\n"
   ]
  }
 ],
 "metadata": {
  "kernelspec": {
   "display_name": "Python 3.9.12 ('base')",
   "language": "python",
   "name": "python3"
  },
  "language_info": {
   "codemirror_mode": {
    "name": "ipython",
    "version": 3
   },
   "file_extension": ".py",
   "mimetype": "text/x-python",
   "name": "python",
   "nbconvert_exporter": "python",
   "pygments_lexer": "ipython3",
   "version": "3.9.12"
  },
  "orig_nbformat": 4,
  "vscode": {
   "interpreter": {
    "hash": "59c9728de9209d7b0dda9247de55d718f1494ec7265b23bc04b0d63902fd1d3d"
   }
  }
 },
 "nbformat": 4,
 "nbformat_minor": 2
}

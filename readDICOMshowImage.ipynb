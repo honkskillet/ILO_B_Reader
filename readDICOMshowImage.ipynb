{
 "cells": [
  {
   "cell_type": "code",
   "execution_count": 36,
   "metadata": {},
   "outputs": [],
   "source": [
    "import numpy as np\n",
    "import pydicom \n",
    "import matplotlib.pyplot as plt\n",
    "from  PIL import Image"
   ]
  },
  {
   "cell_type": "markdown",
   "metadata": {},
   "source": [
    "##### Open one dicom file and disply image"
   ]
  },
  {
   "cell_type": "code",
   "execution_count": 89,
   "metadata": {},
   "outputs": [
    {
     "name": "stdout",
     "output_type": "stream",
     "text": [
      "P05-0181 sex:M age:19330313\n",
      "\n",
      "RawDataElement(tag=(0008, 1030), VR='LO', length=12, value=b'CHEST 1 VIEW', value_tell=700, is_implicit_VR=False, is_little_endian=True, is_raw=True)\n",
      "\n",
      "Chest AP\n"
     ]
    }
   ],
   "source": [
    "dicom = pydicom.dcmread('./Pantex/DICOM/PAT_0000/STD_0001/SER_0000/OBJ_0001/IM_0001')\n",
    "print(f\"{dicom.PatientID} sex:{dicom.PatientSex} age:{dicom.PatientBirthDate}\")\n",
    "print(f\"\\n{dicom.get_item([0x0008, 0x1030])}\\n\") \n",
    "# print( dicom.file_meta)\n",
    "# for i in iter( dicom.iterall()):\n",
    "#   print(i)\n",
    "dicom_dict = dicom.to_json_dict()\n",
    "print(dicom_dict['00181030']['Value'][0])\n",
    "# /Users/white/Documents/AlexProjects/DICOM_OCC_MED/Pantex/DICOM/PAT_0000/STD_0001/SER_0000/OBJ_0001\n",
    "# dicom = pydicom.dcmread('./dicom/ILO_Standards/4EF026B7') #read the dicom file into a variable\n",
    "image_pixel_array = dicom.pixel_array.astype(float) # extract the image pixel data from the dicom dictionary\n",
    "rescaled_image_pixel_array = (np.maximum(image_pixel_array,0)/image_pixel_array.max())*255 # float pixels\n",
    "final_image_pixel_array = np.uint8(rescaled_image_pixel_array) #convert to integer pixels\n",
    "finale_image = Image.fromarray(final_image_pixel_array) #use image library to convert array of pixel data to an image\n",
    "finale_image.show() # will open a copy of the image in Preview\n",
    "# finale_image.save('CXR.PNG') #  Saves to file"
   ]
  },
  {
   "cell_type": "code",
   "execution_count": 20,
   "metadata": {},
   "outputs": [],
   "source": [
    "root_dir = './Pantex/Profusion Dicoms/'  #'./Pantex/Profusion Dicoms/'\n",
    " "
   ]
  },
  {
   "cell_type": "markdown",
   "metadata": {},
   "source": [
    "##### Find all the types of files stored in our dicom files "
   ]
  },
  {
   "cell_type": "code",
   "execution_count": 4,
   "metadata": {},
   "outputs": [
    {
     "data": {
      "text/plain": [
       "['CHEST']"
      ]
     },
     "execution_count": 4,
     "metadata": {},
     "output_type": "execute_result"
    }
   ],
   "source": [
    "# \n",
    "import glob\n",
    "study_types = [] \n",
    "path_to_match = f'{root_dir}**/IM*' #ie,    './Pantex/**/IM*'\n",
    "for f in glob.glob(path_to_match, recursive=True):\n",
    "  dicom = pydicom.dcmread(f)\n",
    "  study_description = str( dicom.get_item([0x0008, 0x1030]).value)\n",
    "  #Find is the image is an X-ray or a different type of image (like a scanned ILO form)\n",
    "  image_type = \"NOT X-RAY\"\n",
    "  try:\n",
    "    dicom_dict = dicom.to_json_dict()\n",
    "    image_type=dicom_dict['00181030']['Value'][0] # Will have value like 'CHEST PA' or 'CHEST LAT', we are only interested in AP and PA films\n",
    "    study_types.append(image_type)\n",
    "  except Exception:\n",
    "    pass\n",
    "list(set( study_types))\n",
    "\n"
   ]
  },
  {
   "cell_type": "code",
   "execution_count": 32,
   "metadata": {},
   "outputs": [
    {
     "name": "stdout",
     "output_type": "stream",
     "text": [
      "./Pantex/Profusion Dicoms/DICOM/PAT_0011/STD_0001/SER_0000/OBJ_0001/IM_0001 P13-0043_20131010.png\n",
      "m/m 4055.0 68.0\n",
      "./Pantex/Profusion Dicoms/DICOM/PAT_0011/STD_0001/SER_0001/OBJ_0001/IM_0001 P13-0043_20131010.png\n",
      "m/m 4089.0 0.0\n",
      "./Pantex/Profusion Dicoms/DICOM/PAT_0016/STD_0000/SER_0000/OBJ_0001/IM_0001 P06-0172_20110901.png\n",
      "m/m 4051.0 14.0\n",
      "./Pantex/Profusion Dicoms/DICOM/PAT_0017/STD_0003/SER_0000/OBJ_0001/IM_0001 P10-0066_20130725.png\n",
      "m/m 3992.0 42.0\n",
      "./Pantex/Profusion Dicoms/DICOM/PAT_0017/STD_0002/SER_0000/OBJ_0001/IM_0001 P10-0066_20100630.png\n",
      "m/m 3611.0 40.0\n",
      "./Pantex/Profusion Dicoms/DICOM/PAT_0017/STD_0002/SER_0000/OBJ_0001/IM_0002 P10-0066_20100630.png\n",
      "m/m 4092.0 0.0\n",
      "./Pantex/Profusion Dicoms/DICOM/PAT_0010/STD_0001/SER_0000/OBJ_0001/IM_0001 P13-0046_20131017.png\n",
      "m/m 3910.0 56.0\n",
      "./Pantex/Profusion Dicoms/DICOM/PAT_0010/STD_0001/SER_0001/OBJ_0001/IM_0001 P13-0046_20131017.png\n",
      "m/m 3962.0 0.0\n",
      "./Pantex/Profusion Dicoms/DICOM/PAT_0003/STD_0001/SER_0000/OBJ_0001/IM_0001 P05-0157_20150514.png\n",
      "m/m 3849.0 116.0\n",
      "./Pantex/Profusion Dicoms/DICOM/PAT_0003/STD_0002/SER_0000/OBJ_0001/IM_0001 P05-0157_20091105.png\n",
      "m/m 4089.0 0.0\n",
      "./Pantex/Profusion Dicoms/DICOM/PAT_0003/STD_0002/SER_0000/OBJ_0001/IM_0003 P05-0157_20091105.png\n",
      "./Pantex/Profusion Dicoms/DICOM/PAT_0003/STD_0002/SER_0000/OBJ_0001/IM_0004 P05-0157_20091105.png\n",
      "./Pantex/Profusion Dicoms/DICOM/PAT_0003/STD_0002/SER_0000/OBJ_0001/IM_0002 P05-0157_20091105.png\n",
      "m/m 3659.0 53.0\n",
      "./Pantex/Profusion Dicoms/DICOM/PAT_0004/STD_0001/SER_0000/OBJ_0001/IM_0001 P112299_20091028.png\n",
      "m/m 3559.0 41.0\n",
      "./Pantex/Profusion Dicoms/DICOM/PAT_0004/STD_0001/SER_0000/OBJ_0001/IM_0002 P112299_20091028.png\n",
      "m/m 4091.0 0.0\n",
      "./Pantex/Profusion Dicoms/DICOM/PAT_0005/STD_0000/SER_0001/OBJ_0001/IM_0001 P09-0101_20211209.png\n",
      "m/m 16382.0 0.0\n",
      "./Pantex/Profusion Dicoms/DICOM/PAT_0002/STD_0000/SER_0000/OBJ_0001/IM_0001 XP11-0015_20110330.png\n",
      "m/m 3902.0 61.0\n",
      "./Pantex/Profusion Dicoms/DICOM/PAT_0002/STD_0000/SER_0000/OBJ_0001/IM_0002 XP11-0015_20110330.png\n",
      "m/m 4093.0 0.0\n",
      "./Pantex/Profusion Dicoms/DICOM/PAT_0015/STD_0003/SER_0000/OBJ_0001/IM_0001 P06-0125_20100218.png\n",
      "m/m 4089.0 41.0\n",
      "./Pantex/Profusion Dicoms/DICOM/PAT_0015/STD_0003/SER_0000/OBJ_0001/IM_0003 P06-0125_20100218.png\n",
      "./Pantex/Profusion Dicoms/DICOM/PAT_0015/STD_0003/SER_0000/OBJ_0001/IM_0004 P06-0125_20100218.png\n",
      "./Pantex/Profusion Dicoms/DICOM/PAT_0015/STD_0003/SER_0000/OBJ_0001/IM_0002 P06-0125_20100218.png\n",
      "m/m 4089.0 47.0\n",
      "./Pantex/Profusion Dicoms/DICOM/PAT_0015/STD_0002/SER_0000/OBJ_0001/IM_0001 P06-0125_20150618.png\n",
      "m/m 3919.0 105.0\n",
      "./Pantex/Profusion Dicoms/DICOM/PAT_0012/STD_0003/SER_0000/OBJ_0001/IM_0001 P05-0173_20140211.png\n",
      "m/m 3913.0 83.0\n",
      "./Pantex/Profusion Dicoms/DICOM/PAT_0012/STD_0002/SER_0000/OBJ_0001/IM_0001 P05-0173_20091029.png\n",
      "m/m 4066.0 0.0\n",
      "./Pantex/Profusion Dicoms/DICOM/PAT_0012/STD_0002/SER_0000/OBJ_0001/IM_0003 P05-0173_20091029.png\n",
      "m/m 3773.0 29.0\n",
      "./Pantex/Profusion Dicoms/DICOM/PAT_0012/STD_0002/SER_0000/OBJ_0001/IM_0002 P05-0173_20091029.png\n",
      "m/m 3334.0 28.0\n",
      "./Pantex/Profusion Dicoms/DICOM/PAT_0013/STD_0001/SER_0000/OBJ_0001/IM_0001 P06-0191_20151214.png\n",
      "m/m 4011.0 33.0\n",
      "./Pantex/Profusion Dicoms/DICOM/PAT_0014/STD_0003/SER_0000/OBJ_0001/IM_0001 P06-0237_20131017.png\n",
      "m/m 4012.0 175.0\n",
      "./Pantex/Profusion Dicoms/DICOM/PAT_0014/STD_0002/SER_0000/OBJ_0001/IM_0001 P06-0237_20100729.png\n",
      "m/m 4095.0 56.0\n",
      "./Pantex/Profusion Dicoms/DICOM/PAT_0007/STD_0001/SER_0001/OBJ_0001/IM_0001 P18-0027_20211216.png\n",
      "m/m 16382.0 0.0\n",
      "./Pantex/Profusion Dicoms/DICOM/PAT_0000/STD_0001/SER_0000/OBJ_0001/IM_0001 P05-0181_20111207.png\n",
      "m/m 4057.0 28.0\n",
      "./Pantex/Profusion Dicoms/DICOM/PAT_0009/STD_0003/SER_0000/OBJ_0001/IM_0001 P11-0046_20131023.png\n",
      "m/m 3818.0 22.0\n",
      "./Pantex/Profusion Dicoms/DICOM/PAT_0009/STD_0002/SER_0000/OBJ_0001/IM_0001 P11-0046_20110907.png\n",
      "m/m 4092.0 0.0\n",
      "./Pantex/Profusion Dicoms/DICOM/PAT_0009/STD_0002/SER_0000/OBJ_0001/IM_0002 P11-0046_20110907.png\n",
      "m/m 3345.0 0.0\n",
      "./Pantex/Profusion Dicoms/DICOM/PAT_0001/STD_0000/SER_0000/OBJ_0001/IM_0001 XP11-0034_20110602.png\n",
      "m/m 4012.0 12.0\n",
      "./Pantex/Profusion Dicoms/DICOM/PAT_0001/STD_0000/SER_0000/OBJ_0001/IM_0002 XP11-0034_20110602.png\n",
      "m/m 4095.0 0.0\n"
     ]
    }
   ],
   "source": [
    "import glob\n",
    "path_to_match = f'{root_dir}**/IM*' #ie,    './Pantex/**/IM*'\n",
    "for f in glob.glob(path_to_match, recursive=True):\n",
    "  dicom = pydicom.dcmread(f)\n",
    "  study_description = str( dicom.get_item([0x0008, 0x1030]).value)\n",
    "  #Find is the image is an X-ray or a different type of image (like a scanned ILO form)\n",
    "  image_type = \"NOT X-RAY\"\n",
    "  try:\n",
    "    dicom_dict = dicom.to_json_dict()\n",
    "    image_type=dicom_dict['00181030']['Value'][0] # Will have value like 'CHEST PA' or 'CHEST LAT', we are only interested in AP and PA films\n",
    "  \n",
    "    # if((image_type !='Chest LAT') and (image_type !='NOT X-RAY') ):\n",
    "      # ANONYMIZE, JUST IN CASE (should already be stripped)\n",
    "    dicom.PatientName = None # 'ANON'\n",
    "    dicom.PatientBirthDate = None #'19000101'\n",
    "    PA_or_AP = 'AP' if image_type =='Chest AP' else 'PA'\n",
    "    filename = f\"{dicom.PatientID}_{dicom.StudyDate}_{PA_or_AP}.dcm\"\n",
    "    png_filename = f\"{dicom.PatientID}_{dicom.StudyDate}.png\"\n",
    "    print(f,png_filename)\n",
    "    dicom.save_as(f'{root_dir}FLATTENED/{filename}')\n",
    "\n",
    "    image_pixel_array = dicom.pixel_array.astype(float) # extract the image pixel data from the dicom dictionary\n",
    "    print(f'm/m {image_pixel_array.max()} {image_pixel_array.min()}')\n",
    "    # rescaled_image_pixel_array = (np.maximum(image_pixel_array,0)/image_pixel_array.max())*255 # float pixels\n",
    "    rescaled_image_pixel_array = np.interp(image_pixel_array, (image_pixel_array.min(),image_pixel_array.max()),(0,255))\n",
    "    final_image_pixel_array = np.uint8(rescaled_image_pixel_array) #convert to integer pixels\n",
    "    finale_image = Image.fromarray(final_image_pixel_array) #use image library to convert array of pixel data to an image\n",
    "    # finale_image.show() # will open a copy of the image in Preview\n",
    "    finale_image.save(f'{root_dir}FLATTENED/{png_filename}') #  Saves to file\n",
    "  except Exception:\n",
    "    pass\n",
    "\n",
    "    # files.append([f,study_description,image_type])\n",
    "    # image_pixel_array = dicom.pixel_array.astype(float) # extract the image pixel data from the dicom dictionary\n",
    "    # rescaled_image_pixel_array = (np.maximum(image_pixel_array,0)/image_pixel_array.max())*255 # float pixels\n",
    "    # final_image_pixel_array = np.uint8(rescaled_image_pixel_array) #convert to integer pixels\n",
    "    # finale_image = Image.fromarray(final_image_pixel_array) #use image library to convert array of pixel data to an image\n",
    "    # finale_image.show()\n",
    "# len(files)\n",
    "\n",
    "  "
   ]
  },
  {
   "cell_type": "markdown",
   "metadata": {},
   "source": [
    "### Crop pixel array to remove labels"
   ]
  },
  {
   "cell_type": "code",
   "execution_count": 57,
   "metadata": {},
   "outputs": [],
   "source": [
    "  file = \"./Pantex/Profusion Dicoms/FLATTENED/P09-0101_20211209_PA.dcm\"\n",
    "  dicom = pydicom.dcmread(file)\n",
    " \n",
    "\n",
    "  image_pixel_array = dicom.pixel_array.astype(float) # extract the image pixel data from the dicom dictionary\n",
    "  image_pixel_array = dicom.pixel_array[150:2500][120:3000]\n",
    "  # print(f'm/m {image_pixel_array.max()} {image_pixel_array.min()}')\n",
    "  # # np.histogram(image_pixel_array)\n",
    "  # plt.hist(image_pixel_array)\n",
    "\n",
    "\n",
    "\n"
   ]
  },
  {
   "cell_type": "code",
   "execution_count": 56,
   "metadata": {},
   "outputs": [
    {
     "data": {
      "text/plain": [
       "(2220, 3072)"
      ]
     },
     "execution_count": 56,
     "metadata": {},
     "output_type": "execute_result"
    }
   ],
   "source": [
    "  old_range =  (image_pixel_array.min(),image_pixel_array.max()) if True else  (image_pixel_array.max(),image_pixel_array.min()) \n",
    "  # rescaled_image_pixel_array = (np.maximum(image_pixel_array,0)/image_pixel_array.max())*255 # float pixels\n",
    "  rescaled_image_pixel_array = np.interp(image_pixel_array, old_range,(0,255))\n",
    "  final_image_pixel_array = np.uint8(rescaled_image_pixel_array) #convert to integer pixels\n",
    "  # print(final_image_pixel_array.shape())\n",
    "  # cropped_img_arr = final_image_pixel_array[160:2500][120:3000]\n",
    "  finale_image = Image.fromarray(cropped_img_arr) #use image library to convert array of pixel data to an image\n",
    "  finale_image.show() # will open a copy of the image in Preview\n",
    "  # finale_image.save(f'{root_dir}FLATTENED/{png_filename}') #  Saves to file\n",
    "\n",
    "np.shape(final_image_pixel_array)\n",
    "\n",
    "# pretty print all the files in an direcory\n",
    "# print('\\n'.join(os.listdir('./Pantex/Profusion Dicoms/FLATTENED/recheck')))"
   ]
  }
 ],
 "metadata": {
  "kernelspec": {
   "display_name": "Python 3.10.5 ('Transfer_Learning')",
   "language": "python",
   "name": "python3"
  },
  "language_info": {
   "codemirror_mode": {
    "name": "ipython",
    "version": 3
   },
   "file_extension": ".py",
   "mimetype": "text/x-python",
   "name": "python",
   "nbconvert_exporter": "python",
   "pygments_lexer": "ipython3",
   "version": "3.10.5"
  },
  "orig_nbformat": 4,
  "vscode": {
   "interpreter": {
    "hash": "342dfa87ede328b7be74dd9e2a5befe9fb3b3b15191910f7b9d300f82b7ef8a8"
   }
  }
 },
 "nbformat": 4,
 "nbformat_minor": 2
}

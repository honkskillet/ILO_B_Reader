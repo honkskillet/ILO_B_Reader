{
 "cells": [
  {
   "cell_type": "code",
   "execution_count": 2,
   "metadata": {},
   "outputs": [],
   "source": [
    "#  dcmpandas installed directly from github with ....\n",
    "#  pip install -e git+https://github.com/dov/dcmpandas#egg=dcmpandas\n",
    "# import dcmpandas as dp\n",
    "# dp.scrape('.')\n",
    "\n",
    "\n",
    "#import matplotlib.pyplot as plt\n",
    "\n",
    "# pip install pydicom\n",
    "# pip install Pillow -U\n",
    "\n",
    "import numpy as np\n",
    "\n",
    "import pydicom \n",
    "from  PIL import Image\n"
   ]
  },
  {
   "cell_type": "markdown",
   "metadata": {},
   "source": []
  },
  {
   "cell_type": "code",
   "execution_count": 89,
   "metadata": {},
   "outputs": [
    {
     "name": "stdout",
     "output_type": "stream",
     "text": [
      "P05-0181 sex:M age:19330313\n",
      "\n",
      "RawDataElement(tag=(0008, 1030), VR='LO', length=12, value=b'CHEST 1 VIEW', value_tell=700, is_implicit_VR=False, is_little_endian=True, is_raw=True)\n",
      "\n",
      "Chest AP\n"
     ]
    }
   ],
   "source": [
    "dicom = pydicom.dcmread('./Pantex/DICOM/PAT_0000/STD_0001/SER_0000/OBJ_0001/IM_0001')\n",
    "print(f\"{dicom.PatientID} sex:{dicom.PatientSex} age:{dicom.PatientBirthDate}\")\n",
    "\n",
    "# print(dicom.fileobj_type, dicom.file_meta)\n",
    "\n",
    "print(f\"\\n{dicom.get_item([0x0008, 0x1030])}\\n\") \n",
    "# print( dicom.file_meta)\n",
    "# for i in iter( dicom.iterall()):\n",
    "#   print(i)\n",
    "dicom_dict = dicom.to_json_dict()\n",
    "print(dicom_dict['00181030']['Value'][0])\n",
    "# /Users/white/Documents/AlexProjects/DICOM_OCC_MED/Pantex/DICOM/PAT_0000/STD_0001/SER_0000/OBJ_0001\n",
    "# dicom = pydicom.dcmread('./dicom/ILO_Standards/4EF026B7') #read the dicom file into a variable\n",
    "image_pixel_array = dicom.pixel_array.astype(float) # extract the image pixel data from the dicom dictionary\n",
    "rescaled_image_pixel_array = (np.maximum(image_pixel_array,0)/image_pixel_array.max())*255 # float pixels\n",
    "final_image_pixel_array = np.uint8(rescaled_image_pixel_array) #convert to integer pixels\n",
    "finale_image = Image.fromarray(final_image_pixel_array) #use image library to convert array of pixel data to an image\n",
    "finale_image.show() # will open a copy of the image in Preview\n",
    "# finale_image.save('CXR.PNG') #  Saves to file\n",
    "\n"
   ]
  },
  {
   "cell_type": "code",
   "execution_count": 99,
   "metadata": {},
   "outputs": [
    {
     "data": {
      "text/plain": [
       "['CHEST', 'Chest LAT', 'Chest PA', 'Chest AP']"
      ]
     },
     "execution_count": 99,
     "metadata": {},
     "output_type": "execute_result"
    }
   ],
   "source": [
    "import glob\n",
    "study_types = [] \n",
    "for f in glob.glob('./Pantex/**/IM*', recursive=True):\n",
    "  dicom = pydicom.dcmread(f)\n",
    "  study_description = str( dicom.get_item([0x0008, 0x1030]).value)\n",
    "  #Find is the image is an X-ray or a different type of image (like a scanned ILO form)\n",
    "  image_type = \"NOT X-RAY\"\n",
    "  try:\n",
    "    dicom_dict = dicom.to_json_dict()\n",
    "    image_type=dicom_dict['00181030']['Value'][0] # Will have value like 'CHEST PA' or 'CHEST LAT', we are only interested in AP and PA films\n",
    "    study_types.append(image_type)\n",
    "  except Exception:\n",
    "    pass\n",
    "list(set( study_types))\n",
    "\n"
   ]
  },
  {
   "cell_type": "code",
   "execution_count": 100,
   "metadata": {},
   "outputs": [
    {
     "name": "stdout",
     "output_type": "stream",
     "text": [
      "./Pantex/DICOM/PAT_0011/STD_0001/SER_0000/OBJ_0001/IM_0001 P13-0043_20131010_AP.dcm\n",
      "./Pantex/DICOM/PAT_0016/STD_0000/SER_0000/OBJ_0001/IM_0001 P06-0172_20110901_AP.dcm\n",
      "./Pantex/DICOM/PAT_0017/STD_0003/SER_0000/OBJ_0001/IM_0001 P10-0066_20130725_AP.dcm\n",
      "./Pantex/DICOM/PAT_0017/STD_0002/SER_0000/OBJ_0001/IM_0001 P10-0066_20100630_PA.dcm\n",
      "./Pantex/DICOM/PAT_0010/STD_0001/SER_0000/OBJ_0001/IM_0001 P13-0046_20131017_AP.dcm\n",
      "./Pantex/DICOM/PAT_0010/STD_0001/SER_0001/OBJ_0001/IM_0001 P13-0046_20131017_AP.dcm\n",
      "./Pantex/DICOM/PAT_0003/STD_0001/SER_0000/OBJ_0001/IM_0001 P05-0157_20150514_AP.dcm\n",
      "./Pantex/DICOM/PAT_0003/STD_0002/SER_0000/OBJ_0001/IM_0004 P05-0157_20091105_PA.dcm\n",
      "./Pantex/DICOM/PAT_0003/STD_0002/SER_0000/OBJ_0001/IM_0002 P05-0157_20091105_PA.dcm\n",
      "./Pantex/DICOM/PAT_0004/STD_0001/SER_0000/OBJ_0001/IM_0001 P112299_20091028_PA.dcm\n",
      "./Pantex/DICOM/PAT_0005/STD_0000/SER_0001/OBJ_0001/IM_0001 P09-0101_20211209_PA.dcm\n",
      "./Pantex/DICOM/PAT_0002/STD_0000/SER_0000/OBJ_0001/IM_0001 XP11-0015_20110330_PA.dcm\n",
      "./Pantex/DICOM/PAT_0015/STD_0003/SER_0000/OBJ_0001/IM_0001 P06-0125_20100218_AP.dcm\n",
      "./Pantex/DICOM/PAT_0015/STD_0003/SER_0000/OBJ_0001/IM_0003 P06-0125_20100218_AP.dcm\n",
      "./Pantex/DICOM/PAT_0015/STD_0003/SER_0000/OBJ_0001/IM_0004 P06-0125_20100218_PA.dcm\n",
      "./Pantex/DICOM/PAT_0015/STD_0003/SER_0000/OBJ_0001/IM_0002 P06-0125_20100218_PA.dcm\n",
      "./Pantex/DICOM/PAT_0015/STD_0002/SER_0000/OBJ_0001/IM_0001 P06-0125_20150618_AP.dcm\n",
      "./Pantex/DICOM/PAT_0012/STD_0003/SER_0000/OBJ_0001/IM_0001 P05-0173_20140211_AP.dcm\n",
      "./Pantex/DICOM/PAT_0012/STD_0002/SER_0000/OBJ_0001/IM_0001 P05-0173_20091029_PA.dcm\n",
      "./Pantex/DICOM/PAT_0012/STD_0002/SER_0000/OBJ_0001/IM_0003 P05-0173_20091029_PA.dcm\n",
      "./Pantex/DICOM/PAT_0012/STD_0002/SER_0000/OBJ_0001/IM_0002 P05-0173_20091029_PA.dcm\n",
      "./Pantex/DICOM/PAT_0013/STD_0001/SER_0000/OBJ_0001/IM_0001 P06-0191_20151214_AP.dcm\n",
      "./Pantex/DICOM/PAT_0014/STD_0003/SER_0000/OBJ_0001/IM_0001 P06-0237_20131017_AP.dcm\n",
      "./Pantex/DICOM/PAT_0014/STD_0002/SER_0000/OBJ_0001/IM_0001 P06-0237_20100729_AP.dcm\n",
      "./Pantex/DICOM/PAT_0007/STD_0001/SER_0001/OBJ_0001/IM_0001 P18-0027_20211216_PA.dcm\n",
      "./Pantex/DICOM/PAT_0000/STD_0001/SER_0000/OBJ_0001/IM_0001 P05-0181_20111207_AP.dcm\n",
      "./Pantex/DICOM/PAT_0009/STD_0003/SER_0000/OBJ_0001/IM_0001 P11-0046_20131023_AP.dcm\n",
      "./Pantex/DICOM/PAT_0009/STD_0002/SER_0000/OBJ_0001/IM_0002 P11-0046_20110907_PA.dcm\n",
      "./Pantex/DICOM/PAT_0001/STD_0000/SER_0000/OBJ_0001/IM_0001 XP11-0034_20110602_PA.dcm\n"
     ]
    }
   ],
   "source": [
    "import glob\n",
    "\n",
    "for f in glob.glob('./Pantex/**/IM*', recursive=True):\n",
    "  dicom = pydicom.dcmread(f)\n",
    "  study_description = str( dicom.get_item([0x0008, 0x1030]).value)\n",
    "  #Find is the image is an X-ray or a different type of image (like a scanned ILO form)\n",
    "  image_type = \"NOT X-RAY\"\n",
    "  try:\n",
    "    dicom_dict = dicom.to_json_dict()\n",
    "    image_type=dicom_dict['00181030']['Value'][0] # Will have value like 'CHEST PA' or 'CHEST LAT', we are only interested in AP and PA films\n",
    "  except Exception:\n",
    "    pass\n",
    "  if((image_type !='Chest LAT') and (image_type !='NOT X-RAY') ):\n",
    "    # ANONYMIZE, JUST IN CASE (should already be stripped)\n",
    "    dicom.PatientName = None # 'ANON'\n",
    "    dicom.PatientBirthDate = None #'19000101'\n",
    "    PA_or_AP = 'AP' if image_type =='Chest AP' else 'PA'\n",
    "    filename = f\"{dicom.PatientID}_{dicom.StudyDate}_{PA_or_AP}.dcm\"\n",
    "    print(f,filename)\n",
    "    dicom.save_as(\"Pantex/FLATTENED/\"+filename)\n",
    "    # files.append([f,study_description,image_type])\n",
    "    # image_pixel_array = dicom.pixel_array.astype(float) # extract the image pixel data from the dicom dictionary\n",
    "    # rescaled_image_pixel_array = (np.maximum(image_pixel_array,0)/image_pixel_array.max())*255 # float pixels\n",
    "    # final_image_pixel_array = np.uint8(rescaled_image_pixel_array) #convert to integer pixels\n",
    "    # finale_image = Image.fromarray(final_image_pixel_array) #use image library to convert array of pixel data to an image\n",
    "    # finale_image.show()\n",
    "# len(files)\n",
    "\n",
    "  "
   ]
  }
 ],
 "metadata": {
  "kernelspec": {
   "display_name": "Python 3.10.5 ('Transfer_Learning')",
   "language": "python",
   "name": "python3"
  },
  "language_info": {
   "codemirror_mode": {
    "name": "ipython",
    "version": 3
   },
   "file_extension": ".py",
   "mimetype": "text/x-python",
   "name": "python",
   "nbconvert_exporter": "python",
   "pygments_lexer": "ipython3",
   "version": "3.10.5"
  },
  "orig_nbformat": 4,
  "vscode": {
   "interpreter": {
    "hash": "342dfa87ede328b7be74dd9e2a5befe9fb3b3b15191910f7b9d300f82b7ef8a8"
   }
  }
 },
 "nbformat": 4,
 "nbformat_minor": 2
}

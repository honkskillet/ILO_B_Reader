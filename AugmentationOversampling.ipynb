{
 "cells": [
  {
   "cell_type": "code",
   "execution_count": 24,
   "metadata": {},
   "outputs": [
    {
     "name": "stderr",
     "output_type": "stream",
     "text": [
      "/Users/white/opt/anaconda3/envs/Transfer_Learning/lib/python3.10/site-packages/tqdm/auto.py:22: TqdmWarning: IProgress not found. Please update jupyter and ipywidgets. See https://ipywidgets.readthedocs.io/en/stable/user_install.html\n",
      "  from .autonotebook import tqdm as notebook_tqdm\n"
     ]
    }
   ],
   "source": [
    "import matplotlib.pyplot as plt\n",
    "import numpy as np\n",
    "import tensorflow as tf\n",
    "# import tensorflow_datasets as tfds\n",
    "\n",
    "from tensorflow.keras import layers\n",
    "import random\n",
    "import shutil\n",
    "import tensorflow_datasets as tfds"
   ]
  },
  {
   "cell_type": "code",
   "execution_count": 17,
   "metadata": {},
   "outputs": [
    {
     "name": "stdout",
     "output_type": "stream",
     "text": [
      "637\n"
     ]
    }
   ],
   "source": [
    "# let's set aside 20% of our Fibrosis images for validation\n",
    "root_path = './dicom/NIH_1stPA_Norm_Fib'  ##Break so we don't accidentally run it again\n",
    "fibrosis_images = os.listdir(root_path+'/Fibrosis') \n",
    "print(len(fibrosis_images))\n",
    "num_for_validation = int(len(fibrosis_images)*.2)\n",
    "validation_fibrosis_images = random.sample(fibrosis_images,num_for_validation)\n",
    "len(validation_fibrosis_images)\n",
    "for image in validation_fibrosis_images:\n",
    "  source = f'{root_path}/Fibrosis/{image}'\n",
    "  dest = f'{root_path}/Validation/{image}'\n",
    "  shutil.move(source,dest)\n",
    "\n"
   ]
  },
  {
   "cell_type": "code",
   "execution_count": 22,
   "metadata": {},
   "outputs": [
    {
     "name": "stdout",
     "output_type": "stream",
     "text": [
      "6370\n"
     ]
    }
   ],
   "source": [
    "#we will also copy an equal number of normals for validation\n",
    "root_path = './dicom/NIH_1stPA_Norm_Fib'  ##Break so we don't accidentally run it again\n",
    "normal_images = os.listdir(root_path+'/No Finding') \n",
    "normal_images\n",
    "print(len(normal_images))\n",
    "validation_normal_images = random.sample(normal_images,num_for_validation)\n",
    "len(validation_normal_images)\n",
    "for image in validation_normal_images:\n",
    "  source = f'{root_path}/No Finding/{image}'\n",
    "  dest = f'{root_path}/Validation/No Finding/{image}'\n",
    "  shutil.move(source,dest)"
   ]
  },
  {
   "cell_type": "markdown",
   "metadata": {},
   "source": [
    "At this point we have 127 CXRs of no findings and 127 CXR with fibrosis in our  validation folder.\n",
    "But we have ~500 Fibrosis and ~6k No Finding CXRs in our training folder."
   ]
  },
  {
   "cell_type": "code",
   "execution_count": 37,
   "metadata": {},
   "outputs": [],
   "source": [
    "# Let's us create a simple oversampled folder, increase our firbosis images by 10x\n",
    "root_path = './dicom/NIH_1stPA_Norm_Fib/Training/Fibrosis Oversampled'\n",
    "image_paths = os.listdir(root_path)\n",
    "for filename in image_paths:\n",
    "  splitF = filename.split('.') \n",
    "  for i in range(1,10):\n",
    "    new_filename = f'{splitF[0]}-{i}.{splitF[1]}'\n",
    "    source = f'{root_path}/{filename}'\n",
    "    dest = f'{root_path}/{new_filename}'\n",
    "    shutil.copy(source,dest)\n",
    "\n"
   ]
  },
  {
   "cell_type": "code",
   "execution_count": null,
   "metadata": {},
   "outputs": [],
   "source": [
    "# Data augmentation"
   ]
  }
 ],
 "metadata": {
  "kernelspec": {
   "display_name": "Python 3.10.5 ('Transfer_Learning')",
   "language": "python",
   "name": "python3"
  },
  "language_info": {
   "codemirror_mode": {
    "name": "ipython",
    "version": 3
   },
   "file_extension": ".py",
   "mimetype": "text/x-python",
   "name": "python",
   "nbconvert_exporter": "python",
   "pygments_lexer": "ipython3",
   "version": "3.10.5"
  },
  "orig_nbformat": 4,
  "vscode": {
   "interpreter": {
    "hash": "342dfa87ede328b7be74dd9e2a5befe9fb3b3b15191910f7b9d300f82b7ef8a8"
   }
  }
 },
 "nbformat": 4,
 "nbformat_minor": 2
}

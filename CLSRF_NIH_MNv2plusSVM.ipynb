{
 "cells": [
  {
   "cell_type": "markdown",
   "metadata": {},
   "source": [
    "# NIH CXR Database Image Classifier using VGG16 and Random Forrest"
   ]
  },
  {
   "cell_type": "code",
   "execution_count": 1,
   "metadata": {},
   "outputs": [],
   "source": [
    "\"\"\"\n",
    "Feature Extractor: NN pretained on ImageNet\n",
    "Output layer(s): SVM - traditional machine learning classifiers\n",
    "Inspired by Sreenivas Bhattiprolu's classifier of similar approach\n",
    "https://github.com/bnsreenu/python_for_microscopists/blob/master/158_classification_CNN_RF.py\n",
    "\"\"\"\n",
    "import numpy as np \n",
    "import pandas as pd\n",
    "import matplotlib.pyplot as plt\n",
    "# import glob\n",
    "import cv2\n",
    "import tensorflow as tf\n",
    "import keras\n",
    "\n",
    "# from keras.models import Model, Sequential\n",
    "# from keras.layers import Dense, Flatten, Conv2D, MaxPooling2D\n",
    "# from keras.layers.normalization import BatchNormalization\n",
    "import os\n",
    "import seaborn as sns\n",
    "from sklearn import preprocessing, metrics\n",
    "# from sklearn.ensemble import RandomForestClassifier"
   ]
  },
  {
   "cell_type": "code",
   "execution_count": 2,
   "metadata": {},
   "outputs": [],
   "source": [
    "#UTILITY FUCTION FOR TIME STAMPS\n",
    "import calendar\n",
    "import time\n",
    "from datetime import datetime\n",
    "\n",
    "def getTimeStamp():\n",
    "  # Current GMT time in a tuple format\n",
    "  current_GMT = time.gmtime()\n",
    "\n",
    "  # ts stores timestamp\n",
    "  ts = calendar.timegm(current_GMT)\n",
    "  date_time = datetime.fromtimestamp(ts)\n",
    "  # convert timestamp to string in dd-mm-yyyy HH:MM:SS\n",
    "  return date_time.strftime(\"%m%d-%H%M%S\")\n"
   ]
  },
  {
   "cell_type": "code",
   "execution_count": 3,
   "metadata": {},
   "outputs": [
    {
     "name": "stdout",
     "output_type": "stream",
     "text": [
      "GPU: []  \n",
      "CPU: [PhysicalDevice(name='/physical_device:CPU:0', device_type='CPU')]  \n",
      "Python 3.10.5 | packaged by conda-forge | (main, Jun 14 2022, 07:03:09) [Clang 13.0.1 ]\n",
      "Tensorflow2.9.1\n"
     ]
    }
   ],
   "source": [
    "# SHOW US WHAT YAH GOT\n",
    "import sys\n",
    "print(f\"GPU: {tf.config.list_physical_devices('GPU')}  \")\n",
    "print(f\"CPU: {tf.config.list_physical_devices('CPU')}  \")\n",
    "print(f\"Python {sys.version}\\nTensorflow{tf.__version__}\")"
   ]
  },
  {
   "cell_type": "code",
   "execution_count": 4,
   "metadata": {},
   "outputs": [
    {
     "name": "stdout",
     "output_type": "stream",
     "text": [
      "Shape of full dataset: (112120, 11)\n",
      "Shape of PA only dataset: (67310, 11)\n",
      "NUMBER OF PA STUDIES WITH FINDING\n",
      "No Finding    39302\n",
      "Fibrosis        648\n",
      "Emphysema       525\n",
      "Name: Finding Labels, dtype: int64\n"
     ]
    }
   ],
   "source": [
    "# define constansts\n",
    "SIZE = 512  #Resize images, note original input shape for VGG is (224,244,3)\n",
    "MAX_NUMBER_OF_EACH_FINDING = 525 #Total number of image for both testing and training\n",
    "df = pd.read_csv('Data_Entry_2017_v2020.csv')\n",
    "df = df[df['Patient Age']<100] #removing datapoints which having age greater than 100\n",
    "print(f\"Shape of full dataset: {df.shape}\")\n",
    "PA_df = df[df['View Position'] == 'PA'] #Fileter just for PA view images (exclude AP)\n",
    "print(f\"Shape of PA only dataset: {PA_df.shape}\")\n",
    "fullMatrchString = \"No Finding|Fibrosis|Emphysema\"\n",
    "filtered_df = PA_df[PA_df['Finding Labels'].str.fullmatch(fullMatrchString)]; # Filter for a selection of parenchymal diseases.  Ie Cardiomegally, pleural thickening, pneumothorax excluded.  Note consolidation & pneumonia also excluded (consolidation, infiltration, PNA are not all exclusive descriptive terms; PNAs can be very different in appearance - round PNA vs lobal PNA vs viral PNA); Did not include edema because there are only 51 studies from 10 unique patients\n",
    "# filtered_df = filtered_df.drop_duplicates(subset=['Patient ID'],ignore_index=True)  #UNIQUE PATIENTS ONLY\n",
    "print(f\"NUMBER OF PA STUDIES WITH FINDING\\n{ filtered_df['Finding Labels'].value_counts()}\") \n",
    "total_df=filtered_df.groupby('Finding Labels').head(MAX_NUMBER_OF_EACH_FINDING) ### cut down the count of each type to a max number, some gropus may have less than the max (PA edema is a small group)\n",
    "# print(pd.crosstab(df['View Position'],df['Finding Labels']).head(10));\n",
    "# test_df= filtered_df.groupby('Finding Labels').head(NUMBER_OF_EACH_FINDING_RESERVED_FOR_TESTING).reset_index(drop=True)\n",
    "# train_df = total_df[~total_df['Image Index'].isin(test_df['Image Index'].to_list())]\n",
    "# print(test_df)\n",
    "# # SANITY CHECK PRINTS\n",
    "# print(total_df.head()[\"Image Index\"])\n",
    "# print(test_df.head()[\"Image Index\"])\n",
    "# print(train_df.head()[\"Image Index\"])"
   ]
  },
  {
   "cell_type": "code",
   "execution_count": 5,
   "metadata": {},
   "outputs": [],
   "source": [
    "#define a function to get the the images and their labels\n",
    "def getImagesAndLabels(patients_df):\n",
    "  labels = []\n",
    "  images = []\n",
    "  image_paths = patients_df['Image Index'].to_numpy()\n",
    "  labels = patients_df['Finding Labels'].to_numpy()\n",
    "  for img_path in image_paths:\n",
    "    img_path = \"dicom/NIH_images/\"+img_path\n",
    "    img = cv2.imread(img_path, cv2.IMREAD_COLOR)       \n",
    "    img = cv2.resize(img, (SIZE, SIZE))\n",
    "    img = cv2.cvtColor(img, cv2.COLOR_RGB2BGR)\n",
    "    images.append(img)\n",
    "\n",
    "  return np.array(images), np.array(labels)\n",
    "  #np.count_nonzero(Label_Array == 'No Finding')\n",
    "  #Label_Array.size"
   ]
  },
  {
   "cell_type": "code",
   "execution_count": 6,
   "metadata": {},
   "outputs": [],
   "source": [
    "\n",
    "images, labels = getImagesAndLabels(total_df)\n",
    "# train_images, train_labels = getImagesAndLabels(train_df)\n",
    "# test_images, test_labels = getImagesAndLabels(test_df)\n",
    "\n"
   ]
  },
  {
   "cell_type": "code",
   "execution_count": 7,
   "metadata": {},
   "outputs": [
    {
     "data": {
      "text/plain": [
       "array(['Fibrosis', 'Emphysema', 'Emphysema', 'Emphysema', 'No Finding'],\n",
       "      dtype=object)"
      ]
     },
     "execution_count": 7,
     "metadata": {},
     "output_type": "execute_result"
    }
   ],
   "source": [
    "from sklearn.model_selection import train_test_split\n",
    "train_images, test_images, train_labels,  test_labels = train_test_split(images, labels, random_state=0, test_size = 0.2, stratify=labels)\n",
    "train_labels[:5]"
   ]
  },
  {
   "cell_type": "code",
   "execution_count": 8,
   "metadata": {},
   "outputs": [
    {
     "data": {
      "text/plain": [
       "(array(['Emphysema', 'Fibrosis', 'No Finding'], dtype=object),\n",
       " array([420, 420, 420]),\n",
       " (array(['Emphysema', 'Fibrosis', 'No Finding'], dtype=object),\n",
       "  array([105, 105, 105])),\n",
       " 3)"
      ]
     },
     "execution_count": 8,
     "metadata": {},
     "output_type": "execute_result"
    }
   ],
   "source": [
    "#Show the split between train and test sets.  By setting Straify = Labels it should keep the values proportional\n",
    "unique_labels, train_labels_counts = np.unique(train_labels, return_counts=True)\n",
    "#Show the split between train and test sets.  By setting Straify = Labels it should keep the values proportional\n",
    "unique_labels, train_labels_counts ,np.unique(test_labels, return_counts=True), unique_labels.size\n"
   ]
  },
  {
   "cell_type": "code",
   "execution_count": 9,
   "metadata": {},
   "outputs": [
    {
     "data": {
      "text/plain": [
       "(array(['Emphysema', 'Fibrosis', 'No Finding'], dtype=object),\n",
       " array(['Fibrosis', 'Emphysema', 'Emphysema', 'Emphysema', 'No Finding'],\n",
       "       dtype=object),\n",
       " array([1, 0, 0, 0, 2]))"
      ]
     },
     "execution_count": 9,
     "metadata": {},
     "output_type": "execute_result"
    }
   ],
   "source": [
    "# encode labels, ie from 'No Finding', 'Fibrosis', ... ====> 0, 1, ...\n",
    "label_encoder = preprocessing.LabelEncoder()\n",
    "label_encoder.fit(test_labels)\n",
    "test_labels_encoded = label_encoder.transform(test_labels)\n",
    "label_encoder.fit(train_labels)\n",
    "train_labels_encoded = label_encoder.transform(train_labels)\n",
    "label_encoder.classes_,train_labels[:5],train_labels_encoded[:5]"
   ]
  },
  {
   "cell_type": "code",
   "execution_count": 10,
   "metadata": {},
   "outputs": [],
   "source": [
    "#Rename to standard naming conventions\n",
    "x_train, y_train, x_test, y_test = train_images, train_labels_encoded, test_images, test_labels_encoded"
   ]
  },
  {
   "cell_type": "markdown",
   "metadata": {},
   "source": [
    "##### RESCALE AND FORMAT DATA"
   ]
  },
  {
   "cell_type": "code",
   "execution_count": 11,
   "metadata": {},
   "outputs": [
    {
     "data": {
      "text/plain": [
       "(1260, 512, 512, 3)"
      ]
     },
     "execution_count": 11,
     "metadata": {},
     "output_type": "execute_result"
    }
   ],
   "source": [
    "\n",
    "# Normalize pixel values to between 0 and 1\n",
    "x_train, x_test = x_train / 255.0, x_test / 255.0\n",
    "x_train.shape"
   ]
  },
  {
   "cell_type": "code",
   "execution_count": 12,
   "metadata": {},
   "outputs": [
    {
     "data": {
      "text/plain": [
       "array([[0., 1., 0.],\n",
       "       [1., 0., 0.],\n",
       "       [1., 0., 0.],\n",
       "       ...,\n",
       "       [0., 0., 1.],\n",
       "       [0., 1., 0.],\n",
       "       [0., 1., 0.]], dtype=float32)"
      ]
     },
     "execution_count": 12,
     "metadata": {},
     "output_type": "execute_result"
    }
   ],
   "source": [
    "# One hot encode y values for neural network. \n",
    "# Not currently used.  Will keep in case want to used in futures.\n",
    "y_train_one_hot = keras.utils.to_categorical(y_train)\n",
    "y_test_one_hot = keras.utils.to_categorical(y_test)\n",
    "y_train_one_hot"
   ]
  },
  {
   "cell_type": "code",
   "execution_count": 13,
   "metadata": {},
   "outputs": [
    {
     "data": {
      "text/plain": [
       "array([0.77647059, 0.77647059, 0.77647059])"
      ]
     },
     "execution_count": 13,
     "metadata": {},
     "output_type": "execute_result"
    }
   ],
   "source": [
    "# Sanity check\n",
    "x_train[0,0,0] #should be greyscale pixel (R=G=B) in range O to 1 "
   ]
  },
  {
   "cell_type": "markdown",
   "metadata": {},
   "source": [
    "##### TRANSFER LEARNING  LOAD PRETRAINED KERAS APPLICATION"
   ]
  },
  {
   "cell_type": "code",
   "execution_count": 14,
   "metadata": {},
   "outputs": [
    {
     "name": "stdout",
     "output_type": "stream",
     "text": [
      "(512, 512)\n"
     ]
    },
    {
     "name": "stderr",
     "output_type": "stream",
     "text": [
      "2022-08-17 23:12:37.769985: I tensorflow/core/platform/cpu_feature_guard.cc:193] This TensorFlow binary is optimized with oneAPI Deep Neural Network Library (oneDNN) to use the following CPU instructions in performance-critical operations:  SSE4.1 SSE4.2 AVX\n",
      "To enable them in other operations, rebuild TensorFlow with the appropriate compiler flags.\n"
     ]
    }
   ],
   "source": [
    "#Load model without output classifier/fully connected layers, set input shape to our custom SIZE \n",
    "#This will act as a \"feature detector\"\n",
    "IMAGE_SHAPE = (SIZE, SIZE)\n",
    "print(IMAGE_SHAPE)\n",
    "base_model = tf.keras.applications.InceptionV3(weights='imagenet', include_top=False,  input_shape=(SIZE,SIZE,3), pooling='max')\n",
    "base_model.trainable = False\n",
    "inputs = keras.Input(shape=(SIZE, SIZE, 3))\n",
    "# We make sure that the base_model is running in inference mode here\n",
    "# by passing `training=False`. This is important for fine-tuning, as you will\n",
    "# learn in a few paragraphs.\n",
    "intermediate_outputs = base_model(inputs, training=False)\n",
    "#base_model.summary()\n"
   ]
  },
  {
   "cell_type": "markdown",
   "metadata": {},
   "source": [
    "##### CREATE OUTPUT LAYERS AND ADD TO THE BASE MODEL"
   ]
  },
  {
   "cell_type": "code",
   "execution_count": 15,
   "metadata": {},
   "outputs": [
    {
     "name": "stdout",
     "output_type": "stream",
     "text": [
      "Model outputs categories/labels:  3\n",
      "Model: \"model\"\n",
      "_________________________________________________________________\n",
      " Layer (type)                Output Shape              Param #   \n",
      "=================================================================\n",
      " input_2 (InputLayer)        [(None, 512, 512, 3)]     0         \n",
      "                                                                 \n",
      " inception_v3 (Functional)   (None, 2048)              21802784  \n",
      "                                                                 \n",
      " dense (Dense)               (None, 3)                 6147      \n",
      "                                                                 \n",
      "=================================================================\n",
      "Total params: 21,808,931\n",
      "Trainable params: 6,147\n",
      "Non-trainable params: 21,802,784\n",
      "_________________________________________________________________\n"
     ]
    }
   ],
   "source": [
    "### CREATE A SVM (SUPPORT VECTOR MACHINE) FOR CLASSIFYING\n",
    "### SVM example: https://github.com/krishnaik06/Complete-Deep-Learning/blob/master/Image%20Classification%20Using%20SVM.ipynb\n",
    "# # #FLATTEN - MAY NOT BE NEEDED WITH SOME BASE MODELS DEPENDING OUT OUTPUT SHAPE, COULD DO GLOBALMAXPOOLING INSTEAD\n",
    "# # x = keras.layers.Flatten()(x)\n",
    "# # # Make Fully Connection Layer\n",
    "# x = keras.layers.Dense(units=16, activation='relu')(intermediate_outputs)\n",
    "# # USE LINEAR CLASSIFICATION FOR A BINARY CLASSIFIER\n",
    "# outputs = keras.layers.Dense(1, kernel_regularizer=tf.keras.regularizers.l2(0.01),activation='linear')(x) \n",
    "# # # USE LINEAR CLASSIFICATION FOR A BINARY CLASSIFIER\n",
    "# # outputs = keras.layers.Dense(XXXXCATEGORYNUMBER, kernel_regularizer=tf.keras.regularizers.l2(0.01),activation='softmax')(x) \n",
    "\n",
    "\n",
    "### Create a simple final dense NN layer\n",
    "\n",
    "outputs = tf.keras.layers.Dense( unique_labels.size, activation = tf.keras.activations.softmax)(intermediate_outputs)\n",
    "print(\"Model outputs categories/labels: \", unique_labels.size)\n",
    "\n",
    "### CREATE OUR FINAL MODEL\n",
    "model = keras.Model(inputs, outputs)\n",
    "\n",
    "# #Make loaded layers as non-trainable. This is important as we want to work with pre-trained weights\n",
    "# for layer in model.layers:\n",
    "# \tlayer.trainable = False\n",
    "model.summary()  #Trainable parameters will be 0"
   ]
  },
  {
   "cell_type": "code",
   "execution_count": 16,
   "metadata": {},
   "outputs": [],
   "source": [
    "# Compiling the CNN\n",
    "model.compile(\n",
    "  optimizer = 'adam', \n",
    "  loss=tf.keras.losses.SparseCategoricalCrossentropy(),#  logits=TrUe /// loss = 'hinge', \n",
    "  metrics = ['accuracy']) #'sparse_categorical_crossentropy'\n",
    "# generate path wehere you want to save your checkpoints\n",
    "checkpoint_path = f\"checkpoints/{getTimeStamp()}_weights.h5\"\n",
    "# define a callback that will save the model weights after every epoch \n",
    "model_checkpoint_callback = tf.keras.callbacks.ModelCheckpoint(\n",
    "  filepath=checkpoint_path,\n",
    "  #save_weights_only=True,\n",
    "  monitor='val_accuracy',\n",
    "  mode='max',\n",
    "  verbose=1,\n",
    "  save_best_only=True)"
   ]
  },
  {
   "cell_type": "code",
   "execution_count": 17,
   "metadata": {},
   "outputs": [
    {
     "name": "stdout",
     "output_type": "stream",
     "text": [
      "Epoch 1/20\n",
      "79/79 [==============================] - ETA: 0s - loss: 2.0177 - accuracy: 0.3556\n",
      "Epoch 1: val_accuracy improved from -inf to 0.33968, saving model to checkpoints/0817-231242_weights.h5\n",
      "79/79 [==============================] - 794s 10s/step - loss: 2.0177 - accuracy: 0.3556 - val_loss: 2.0919 - val_accuracy: 0.3397\n",
      "Epoch 2/20\n",
      "79/79 [==============================] - ETA: 0s - loss: 1.8616 - accuracy: 0.3897\n",
      "Epoch 2: val_accuracy improved from 0.33968 to 0.36190, saving model to checkpoints/0817-231242_weights.h5\n",
      "79/79 [==============================] - 706s 9s/step - loss: 1.8616 - accuracy: 0.3897 - val_loss: 2.3513 - val_accuracy: 0.3619\n",
      "Epoch 3/20\n",
      "79/79 [==============================] - ETA: 0s - loss: 1.2769 - accuracy: 0.4548\n",
      "Epoch 3: val_accuracy improved from 0.36190 to 0.40000, saving model to checkpoints/0817-231242_weights.h5\n",
      "79/79 [==============================] - 674s 9s/step - loss: 1.2769 - accuracy: 0.4548 - val_loss: 1.3948 - val_accuracy: 0.4000\n",
      "Epoch 4/20\n",
      "79/79 [==============================] - ETA: 0s - loss: 1.0811 - accuracy: 0.5135\n",
      "Epoch 4: val_accuracy improved from 0.40000 to 0.42857, saving model to checkpoints/0817-231242_weights.h5\n",
      "79/79 [==============================] - 677s 9s/step - loss: 1.0811 - accuracy: 0.5135 - val_loss: 1.4069 - val_accuracy: 0.4286\n",
      "Epoch 5/20\n",
      "79/79 [==============================] - ETA: 0s - loss: 1.0838 - accuracy: 0.5437\n",
      "Epoch 5: val_accuracy did not improve from 0.42857\n",
      "79/79 [==============================] - 674s 9s/step - loss: 1.0838 - accuracy: 0.5437 - val_loss: 1.3190 - val_accuracy: 0.4063\n",
      "Epoch 6/20\n",
      "79/79 [==============================] - ETA: 0s - loss: 1.1058 - accuracy: 0.5452\n",
      "Epoch 6: val_accuracy did not improve from 0.42857\n",
      "79/79 [==============================] - 676s 9s/step - loss: 1.1058 - accuracy: 0.5452 - val_loss: 1.5253 - val_accuracy: 0.4095\n",
      "Epoch 7/20\n",
      "79/79 [==============================] - ETA: 0s - loss: 1.0751 - accuracy: 0.5460\n",
      "Epoch 7: val_accuracy did not improve from 0.42857\n",
      "79/79 [==============================] - 676s 9s/step - loss: 1.0751 - accuracy: 0.5460 - val_loss: 1.4539 - val_accuracy: 0.4286\n",
      "Epoch 8/20\n",
      "79/79 [==============================] - ETA: 0s - loss: 0.8766 - accuracy: 0.6056\n",
      "Epoch 8: val_accuracy improved from 0.42857 to 0.44444, saving model to checkpoints/0817-231242_weights.h5\n",
      "79/79 [==============================] - 677s 9s/step - loss: 0.8766 - accuracy: 0.6056 - val_loss: 1.3435 - val_accuracy: 0.4444\n",
      "Epoch 9/20\n",
      "79/79 [==============================] - ETA: 0s - loss: 0.8606 - accuracy: 0.6270\n",
      "Epoch 9: val_accuracy did not improve from 0.44444\n",
      "79/79 [==============================] - 674s 9s/step - loss: 0.8606 - accuracy: 0.6270 - val_loss: 1.3918 - val_accuracy: 0.4063\n",
      "Epoch 10/20\n",
      "79/79 [==============================] - ETA: 0s - loss: 0.7922 - accuracy: 0.6476\n",
      "Epoch 10: val_accuracy improved from 0.44444 to 0.44762, saving model to checkpoints/0817-231242_weights.h5\n",
      "79/79 [==============================] - 674s 9s/step - loss: 0.7922 - accuracy: 0.6476 - val_loss: 1.2901 - val_accuracy: 0.4476\n",
      "Epoch 11/20\n",
      "79/79 [==============================] - ETA: 0s - loss: 0.7626 - accuracy: 0.6778\n",
      "Epoch 11: val_accuracy did not improve from 0.44762\n",
      "79/79 [==============================] - 673s 9s/step - loss: 0.7626 - accuracy: 0.6778 - val_loss: 1.3833 - val_accuracy: 0.4254\n",
      "Epoch 12/20\n",
      "79/79 [==============================] - ETA: 0s - loss: 0.6526 - accuracy: 0.7325\n",
      "Epoch 12: val_accuracy improved from 0.44762 to 0.45079, saving model to checkpoints/0817-231242_weights.h5\n",
      "79/79 [==============================] - 673s 9s/step - loss: 0.6526 - accuracy: 0.7325 - val_loss: 1.2948 - val_accuracy: 0.4508\n",
      "Epoch 13/20\n",
      "79/79 [==============================] - ETA: 0s - loss: 0.6198 - accuracy: 0.7484\n",
      "Epoch 13: val_accuracy did not improve from 0.45079\n",
      "79/79 [==============================] - 672s 9s/step - loss: 0.6198 - accuracy: 0.7484 - val_loss: 1.3351 - val_accuracy: 0.4381\n",
      "Epoch 14/20\n",
      "79/79 [==============================] - ETA: 0s - loss: 0.6356 - accuracy: 0.7325\n",
      "Epoch 14: val_accuracy did not improve from 0.45079\n",
      "79/79 [==============================] - 671s 9s/step - loss: 0.6356 - accuracy: 0.7325 - val_loss: 1.7242 - val_accuracy: 0.4159\n",
      "Epoch 15/20\n",
      "79/79 [==============================] - ETA: 0s - loss: 0.6930 - accuracy: 0.7008\n",
      "Epoch 15: val_accuracy did not improve from 0.45079\n",
      "79/79 [==============================] - 672s 9s/step - loss: 0.6930 - accuracy: 0.7008 - val_loss: 1.4822 - val_accuracy: 0.4317\n",
      "Epoch 16/20\n",
      "79/79 [==============================] - ETA: 0s - loss: 0.5801 - accuracy: 0.7556\n",
      "Epoch 16: val_accuracy did not improve from 0.45079\n",
      "79/79 [==============================] - 672s 9s/step - loss: 0.5801 - accuracy: 0.7556 - val_loss: 1.3954 - val_accuracy: 0.4286\n",
      "Epoch 17/20\n",
      "79/79 [==============================] - ETA: 0s - loss: 0.5987 - accuracy: 0.7429\n",
      "Epoch 17: val_accuracy did not improve from 0.45079\n",
      "79/79 [==============================] - 674s 9s/step - loss: 0.5987 - accuracy: 0.7429 - val_loss: 1.3600 - val_accuracy: 0.4413\n",
      "Epoch 18/20\n",
      "79/79 [==============================] - ETA: 0s - loss: 0.6027 - accuracy: 0.7476\n",
      "Epoch 18: val_accuracy did not improve from 0.45079\n",
      "79/79 [==============================] - 671s 9s/step - loss: 0.6027 - accuracy: 0.7476 - val_loss: 1.5852 - val_accuracy: 0.4000\n",
      "Epoch 19/20\n",
      "79/79 [==============================] - ETA: 0s - loss: 0.4848 - accuracy: 0.8214\n",
      "Epoch 19: val_accuracy improved from 0.45079 to 0.45397, saving model to checkpoints/0817-231242_weights.h5\n",
      "79/79 [==============================] - 673s 9s/step - loss: 0.4848 - accuracy: 0.8214 - val_loss: 1.3286 - val_accuracy: 0.4540\n",
      "Epoch 20/20\n",
      "79/79 [==============================] - ETA: 0s - loss: 0.5002 - accuracy: 0.8032\n",
      "Epoch 20: val_accuracy improved from 0.45397 to 0.45714, saving model to checkpoints/0817-231242_weights.h5\n",
      "79/79 [==============================] - 674s 9s/step - loss: 0.5002 - accuracy: 0.8032 - val_loss: 1.3611 - val_accuracy: 0.4571\n"
     ]
    }
   ],
   "source": [
    "#Train the CNN model\n",
    "EPOCHS=20\n",
    "BATCH_SIZE=16\n",
    "history = model.fit(\n",
    "  x_train, y_train, \n",
    "  epochs=EPOCHS, \n",
    "  batch_size=BATCH_SIZE, \n",
    "  validation_data = (x_test, y_test), \n",
    "  callbacks=[model_checkpoint_callback])"
   ]
  },
  {
   "cell_type": "code",
   "execution_count": 18,
   "metadata": {},
   "outputs": [],
   "source": [
    "## load model weights from file\n",
    "if(False): ##I don't want this to run noramlly\n",
    "  new_model = keras.models.load_model(checkpoint_path)\n",
    "    # assert_allclose(model.predict(x_train), new_model.predict(x_train), 1e-5)\n",
    "  # continue fitting the model\n",
    "  # generate a new path wehere you want to save your checkpoints\n",
    "  checkpoint_path = f\"checkpoints/{getTimeStamp()}_weights.h5\"\n",
    "  # define a callback wutg the new path name\n",
    "  model_checkpoint_callback = tf.keras.callbacks.ModelCheckpoint(\n",
    "    filepath=checkpoint_path,\n",
    "    save_weights_only=True,\n",
    "    monitor='val_accuracy',\n",
    "    mode='max',\n",
    "    verbose=1,\n",
    "    save_best_only=True)\n",
    "  ##RESTART TRAINING\n",
    "  history = new_model.fit( \n",
    "    x_train, y_train, \n",
    "    epochs=EPOCHS, \n",
    "    batch_size=BATCH_SIZE, \n",
    "    validation_data = (x_test, y_test), \n",
    "    callbacks=[model_checkpoint_callback])\n",
    "model= keras.models.load_model(checkpoint_path)"
   ]
  },
  {
   "cell_type": "code",
   "execution_count": 24,
   "metadata": {},
   "outputs": [
    {
     "name": "stdout",
     "output_type": "stream",
     "text": [
      "dict_keys(['loss', 'accuracy', 'val_loss', 'val_accuracy'])\n"
     ]
    },
    {
     "data": {
      "image/png": "[encoded data removed]",
      "text/plain": [
       "<Figure size 1080x360 with 4 Axes>"
      ]
     },
     "metadata": {
      "needs_background": "light"
     },
     "output_type": "display_data"
    }
   ],
   "source": [
    "print(history.history.keys())\n",
    "# summarize training\n",
    "fig, (ax1,bx1), = plt.subplots(1, 2, sharey=True, figsize=(15, 5))\n",
    "l1, = ax1.plot(history.history['loss'], color='blue') \n",
    "ax2 = ax1.twinx()\n",
    "l2, = ax2.plot(history.history['accuracy'], color='red')\n",
    "ax1.set_ylabel('loss' , color='blue')\n",
    "ax2.set_ylabel('accuracy', color='red' )\n",
    "plt.legend([l1, l2], [\"loss\",\"accuracy\" ], loc=\"upper center\")\n",
    "plt.xlabel('epochs')\n",
    "plt.title('Summarize Training')\n",
    "plt.figtext(0.5, 0.01, 'footnote text\\n more text \\n asdf', horizontalalignment='center', fontsize=8)\n",
    "# plt.show()\n",
    "\n",
    "# summarize validation\n",
    "# fig, ax1 = plt.subplots()\n",
    "l1, = bx1.plot(history.history['val_loss'], color='blue') \n",
    "bx2 = bx1.twinx()\n",
    "l2, = bx2.plot(history.history['val_accuracy'], color='red')\n",
    "bx1.set_ylabel('val_loss' , color='blue')\n",
    "bx2.set_ylabel('val_accuracy', color='red' )\n",
    "plt.legend([l1, l2], [\"val_loss\",\"val_accuracy\" ], loc=\"upper center\")\n",
    "plt.xlabel('epochs')\n",
    "plt.title('Summarize Validation')\n",
    "plt.show()\n",
    "\n",
    "# # summarize history for accuracy\n",
    "# plt.plot(history.history['accuracy'])\n",
    "# plt.plot(history.history['val_accuracy'])\n",
    "# plt.title('model accuracy')\n",
    "# plt.ylabel('accuracy')\n",
    "# plt.xlabel('epoch')\n",
    "# plt.legend(['train', 'test'], loc='upper right')\n",
    "# plt.show()\n",
    "# # summarize history for loss\n",
    "# plt.plot(history.history['loss'])\n",
    "# plt.plot(history.history['val_loss'])\n",
    "# plt.title('model loss')\n",
    "# plt.ylabel('loss')\n",
    "# plt.xlabel('epoch')\n",
    "# plt.legend(['train', 'test'], loc='upper right')\n",
    "# plt.show()"
   ]
  },
  {
   "cell_type": "markdown",
   "metadata": {},
   "source": [
    "##### EXTRACT FEATURES USING THE PRETRAINED CNN"
   ]
  },
  {
   "cell_type": "code",
   "execution_count": 20,
   "metadata": {},
   "outputs": [
    {
     "name": "stdout",
     "output_type": "stream",
     "text": [
      "10/10 [==============================] - 134s 13s/step\n"
     ]
    }
   ],
   "source": [
    "#Send test data through the model to get the output values\n",
    "X_test_feature = model.predict(x_test)\n",
    "\n",
    "# X_test_features = X_test_feature.reshape(X_test_feature.shape[0], -1)"
   ]
  },
  {
   "cell_type": "code",
   "execution_count": 21,
   "metadata": {},
   "outputs": [],
   "source": [
    "X_test_feature[:9],X_test_feature.shape\n",
    "flattened = X_test_feature.argmax(axis=1)"
   ]
  },
  {
   "cell_type": "code",
   "execution_count": 22,
   "metadata": {},
   "outputs": [
    {
     "name": "stdout",
     "output_type": "stream",
     "text": [
      "Total accuracy =  0.45714285714285713\n"
     ]
    },
    {
     "data": {
      "text/plain": [
       "(array(['Emphysema', 'Fibrosis', 'No Finding'], dtype=object),\n",
       " array([[65, 26, 14],\n",
       "        [38, 42, 25],\n",
       "        [33, 35, 37]]))"
      ]
     },
     "execution_count": 22,
     "metadata": {},
     "output_type": "execute_result"
    },
    {
     "data": {
      "image/png": "[encoded data removed]",
      "text/plain": [
       "<Figure size 432x288 with 2 Axes>"
      ]
     },
     "metadata": {
      "needs_background": "light"
     },
     "output_type": "display_data"
    }
   ],
   "source": [
    "labels_from_predictions = label_encoder.inverse_transform(flattened)\n",
    "accuracy = metrics.accuracy_score(y_test, flattened)\n",
    "print (\"Total accuracy = \", accuracy)\n",
    "cm = metrics.confusion_matrix(test_labels,labels_from_predictions, labels = label_encoder.classes_)\n",
    "cm_df =df = pd.DataFrame(data = cm, \n",
    "  index = label_encoder.classes_,\n",
    "  columns = label_encoder.classes_)\n",
    "heatmap =sns.heatmap(cm_df, annot=True)\n",
    "label_encoder.classes_,cm"
   ]
  },
  {
   "cell_type": "markdown",
   "metadata": {},
   "source": [
    "MAKE A RANDOM FOREST LAYER"
   ]
  },
  {
   "cell_type": "code",
   "execution_count": 23,
   "metadata": {},
   "outputs": [
    {
     "ename": "NameError",
     "evalue": "name 'RandomForestClassifier' is not defined",
     "output_type": "error",
     "traceback": [
      "\u001b[0;31m---------------------------------------------------------------------------\u001b[0m",
      "\u001b[0;31mNameError\u001b[0m                                 Traceback (most recent call last)",
      "\u001b[1;32m/Users/white/Documents/AlexProjects/DICOM_OCC_MED/CLSRF_NIH_MNv2plusSVM.ipynb Cell 29\u001b[0m in \u001b[0;36m<cell line: 1>\u001b[0;34m()\u001b[0m\n\u001b[0;32m----> <a href='vscode-notebook-cell:/Users/white/Documents/AlexProjects/DICOM_OCC_MED/CLSRF_NIH_MNv2plusSVM.ipynb#X30sZmlsZQ%3D%3D?line=0'>1</a>\u001b[0m RF_model \u001b[39m=\u001b[39m RandomForestClassifier(n_estimators \u001b[39m=\u001b[39m \u001b[39m50\u001b[39m, random_state \u001b[39m=\u001b[39m \u001b[39m42\u001b[39m)\n\u001b[1;32m      <a href='vscode-notebook-cell:/Users/white/Documents/AlexProjects/DICOM_OCC_MED/CLSRF_NIH_MNv2plusSVM.ipynb#X30sZmlsZQ%3D%3D?line=2'>3</a>\u001b[0m \u001b[39m# Train the model on training data\u001b[39;00m\n\u001b[1;32m      <a href='vscode-notebook-cell:/Users/white/Documents/AlexProjects/DICOM_OCC_MED/CLSRF_NIH_MNv2plusSVM.ipynb#X30sZmlsZQ%3D%3D?line=3'>4</a>\u001b[0m RF_model\u001b[39m.\u001b[39mfit(X_for_RF, y_train)\n",
      "\u001b[0;31mNameError\u001b[0m: name 'RandomForestClassifier' is not defined"
     ]
    }
   ],
   "source": [
    "\n",
    "RF_model = RandomForestClassifier(n_estimators = 50, random_state = 42)\n",
    "\n",
    "# Train the model on training data\n",
    "RF_model.fit(X_for_RF, y_train) #For sklearn no one hot encoding"
   ]
  },
  {
   "cell_type": "code",
   "execution_count": null,
   "metadata": {},
   "outputs": [],
   "source": [
    "#Now predict using the trained RF model. \n",
    "prediction_RF = RF_model.predict(X_test_features)\n",
    "#Inverse le transform to get original label back. \n",
    "prediction_RF = label_encoder.inverse_transform(prediction_RF)"
   ]
  },
  {
   "cell_type": "code",
   "execution_count": null,
   "metadata": {},
   "outputs": [],
   "source": [
    "#Print overall accuracy\n",
    "accuracy = metrics.accuracy_score(test_labels, prediction_RF)\n",
    "print (\"Accuracy = \", accuracy)"
   ]
  },
  {
   "cell_type": "code",
   "execution_count": null,
   "metadata": {},
   "outputs": [],
   "source": [
    "# from sklearn.metrics import confusion_matrix\n",
    "#Confusion Matrix - verify accuracy of each class\n",
    "cm = metrics.confusion_matrix(test_labels, prediction_RF)\n",
    "#print(cm)\n",
    "heatmap =sns.heatmap(cm, annot=True)"
   ]
  },
  {
   "cell_type": "code",
   "execution_count": null,
   "metadata": {},
   "outputs": [],
   "source": []
  },
  {
   "cell_type": "code",
   "execution_count": null,
   "metadata": {},
   "outputs": [],
   "source": [
    "\n",
    "#Save confusion matrix\n",
    "heatmap.get_figure().savefig(f\"confusion_matrices/{getTimeStamp()}_VGG16-RF_cats{cm.shape[0]}-{MAX_NUMBER_OF_EACH_FINDING}-{NUMBER_OF_EACH_FINDING_RESERVED_FOR_TESTING}_size{SIZE}_acc{round(accuracy,2)}.png\")"
   ]
  },
  {
   "cell_type": "code",
   "execution_count": null,
   "metadata": {},
   "outputs": [],
   "source": [
    "#Check results on a few select images\n",
    "n=np.random.randint(0, x_test.shape[0])\n",
    "img = x_test[n]\n",
    "plt.imshow(img)\n",
    "input_img = np.expand_dims(img, axis=0) #Expand dims so the input is (num images, x, y, c)\n",
    "input_img_feature=model.predict(input_img)\n",
    "input_img_features=input_img_feature.reshape(input_img_feature.shape[0], -1)\n",
    "prediction_RF = RF_model.predict(input_img_features)[0] \n",
    "prediction_RF = label_encoder.inverse_transform([prediction_RF])  #Reverse the label encoder to original name\n",
    "print(\"The prediction for this image is: \", prediction_RF)\n",
    "print(\"The actual label for this image is: \", test_labels[n])"
   ]
  }
 ],
 "metadata": {
  "kernelspec": {
   "display_name": "Python 3.10.5 ('Transfer_Learning')",
   "language": "python",
   "name": "python3"
  },
  "language_info": {
   "codemirror_mode": {
    "name": "ipython",
    "version": 3
   },
   "file_extension": ".py",
   "mimetype": "text/x-python",
   "name": "python",
   "nbconvert_exporter": "python",
   "pygments_lexer": "ipython3",
   "version": "3.10.5"
  },
  "orig_nbformat": 4,
  "vscode": {
   "interpreter": {
    "hash": "342dfa87ede328b7be74dd9e2a5befe9fb3b3b15191910f7b9d300f82b7ef8a8"
   }
  }
 },
 "nbformat": 4,
 "nbformat_minor": 2
}

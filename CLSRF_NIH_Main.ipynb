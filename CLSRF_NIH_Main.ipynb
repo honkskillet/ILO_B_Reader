{
 "cells": [
  {
   "cell_type": "markdown",
   "metadata": {},
   "source": [
    "# NIH CXR Database Image Classifier using VGG16 and Random Forrest"
   ]
  },
  {
   "cell_type": "code",
   "execution_count": 1,
   "metadata": {},
   "outputs": [],
   "source": [
    "\"\"\"\n",
    "Feature Extractor: NN pretained on ImageNet\n",
    "Output layer(s): SVM - traditional machine learning classifiers\n",
    "Inspired by Sreenivas Bhattiprolu's classifier of similar approach\n",
    "https://github.com/bnsreenu/python_for_microscopists/blob/master/158_classification_CNN_RF.py\n",
    "\"\"\"\n",
    "import numpy as np \n",
    "import pandas as pd\n",
    "import matplotlib.pyplot as plt\n",
    "# import glob\n",
    "import cv2\n",
    "import tensorflow as tf\n",
    "import keras\n",
    "from keras.preprocessing.image import ImageDataGenerator\n",
    "# from keras.models import Model, Sequential\n",
    "# from keras.layers import Dense, Flatten, Conv2D, MaxPooling2D\n",
    "# from keras.layers.normalization import BatchNormalization\n",
    "import os\n",
    "import seaborn as sns\n",
    "from sklearn import preprocessing, metrics\n",
    "# from sklearn.ensemble import RandomForestClassifier"
   ]
  },
  {
   "cell_type": "code",
   "execution_count": 2,
   "metadata": {},
   "outputs": [],
   "source": [
    "#UTILITY FUCTION FOR TIME STAMPS\n",
    "import calendar, time\n",
    "from datetime import datetime\n",
    "def getTimeStamp():\n",
    "  current_GMT = time.gmtime()  # Current GMT time in a tuple format\n",
    "  ts = calendar.timegm(current_GMT)   # ts stores timestamp\n",
    "  date_time = datetime.fromtimestamp(ts)\n",
    "  return date_time.strftime(\"%m%d-%H%M%S\")  # convert timestamp to string in dd-mm-yyyy HH:MM:SS\n"
   ]
  },
  {
   "cell_type": "code",
   "execution_count": 3,
   "metadata": {},
   "outputs": [
    {
     "name": "stdout",
     "output_type": "stream",
     "text": [
      "GPU: []  \n",
      "CPU: [PhysicalDevice(name='/physical_device:CPU:0', device_type='CPU')]  \n",
      "Python 3.10.5 | packaged by conda-forge | (main, Jun 14 2022, 07:03:09) [Clang 13.0.1 ]\n",
      "Tensorflow2.9.1\n"
     ]
    }
   ],
   "source": [
    "# SHOW US WHAT YAH GOT\n",
    "import sys\n",
    "print(f\"GPU: {tf.config.list_physical_devices('GPU')}  \")\n",
    "print(f\"CPU: {tf.config.list_physical_devices('CPU')}  \")\n",
    "print(f\"Python {sys.version}\\nTensorflow{tf.__version__}\")"
   ]
  },
  {
   "cell_type": "code",
   "execution_count": 4,
   "metadata": {},
   "outputs": [
    {
     "name": "stdout",
     "output_type": "stream",
     "text": [
      "Not running on CoLab\n"
     ]
    }
   ],
   "source": [
    "# If running on google colab, mount colab drive\n",
    "if 'google.colab' in str(get_ipython()):\n",
    "  from google.colab import drive\n",
    "  drive.mount('/content/drive')\n",
    "else:\n",
    "  print('Not running on CoLab')"
   ]
  },
  {
   "cell_type": "code",
   "execution_count": 5,
   "metadata": {},
   "outputs": [
    {
     "data": {
      "text/plain": [
       "'/Users/white/Documents/AlexProjects/DICOM_OCC_MED/'"
      ]
     },
     "execution_count": 5,
     "metadata": {},
     "output_type": "execute_result"
    }
   ],
   "source": [
    "WORKING_DIR_TS = os.getcwd()\n",
    "WORKING_DIR_TS += '/'\n",
    "if 'google.colab' in str(get_ipython()): #if working on google colab google colab\n",
    "  WORKING_DIR_TS = '/content/drive/MyDrive/' #this is where files actually reside on google colab (that is on a mounted google drive)\n",
    "WORKING_DIR_TS"
   ]
  },
  {
   "cell_type": "code",
   "execution_count": 8,
   "metadata": {},
   "outputs": [],
   "source": [
    "# DEFINE CONSTANSTS\n",
    "SIZE = 512  #Resize images, note original input shape for VGG is (224,244,3)\n",
    "MAX_NUMBER_OF_EACH_FINDING = 525 #Total number of image for both testing and training\n",
    "OVER_UNDER_SAMPLE_COUNT =2000\n",
    "LIMIT_SAMPLE_TO_FINDINGS = ['No Finding' ,'Infiltration','Fibrosis'] #['No Finding' ,'Infiltration','Cardiomegaly' ,'Effusion','Mass','Fibrosis']\n",
    "# MIN_AGE,MAX_AGE = 18,85\n",
    "BATCH_SIZE = 32\n",
    "VALIDATION_SPLIT = 0.2\n",
    "EPOCHS=1"
   ]
  },
  {
   "cell_type": "markdown",
   "metadata": {},
   "source": [
    "DATA GENERATOR FLOW_FROM_DIRECTORY APPROACH (DEPRICATED)"
   ]
  },
  {
   "cell_type": "code",
   "execution_count": 19,
   "metadata": {},
   "outputs": [
    {
     "name": "stdout",
     "output_type": "stream",
     "text": [
      "Found 8951 images belonging to 3 classes.\n",
      "Found 2237 images belonging to 3 classes.\n"
     ]
    },
    {
     "data": {
      "text/plain": [
       "({0: 1.0, 1: 1.0, 2: 8.132716049382717},\n",
       " Counter({0: 5270, 1: 5270, 2: 648}),\n",
       " {'No Finding': 0, 'Infiltration': 1, 'Fibrosis': 2},\n",
       " 11188,\n",
       " 3)"
      ]
     },
     "execution_count": 19,
     "metadata": {},
     "output_type": "execute_result"
    }
   ],
   "source": [
    "## SET UP DATA GENERATOR AND FLOW_FROM_DIRECTORY\n",
    "from collections import Counter\n",
    "train_datagen = ImageDataGenerator(\n",
    "  rescale=1./255,\n",
    "  validation_split=VALIDATION_SPLIT,\n",
    "  # zoom_range=0.2,\n",
    ")\n",
    "val_datagen = ImageDataGenerator(\n",
    "  rescale=1./255,\n",
    "  validation_split=VALIDATION_SPLIT,\n",
    ")\n",
    "train_data_generator = datagen.flow_from_directory(\n",
    "  'dicom/NIH_subset',\n",
    "  target_size=(SIZE, SIZE),\n",
    "  batch_size=BATCH_SIZE,\n",
    "  shuffle = True,\n",
    "  class_mode= 'categorical', #'sparse' #',\n",
    "  classes= LIMIT_SAMPLE_TO_FINDINGS,\n",
    "  subset=\"training\"\n",
    ")\n",
    "\n",
    "val_data_generator = val_datagen.flow_from_directory(\n",
    "  'dicom/NIH_subset',\n",
    "  target_size=(SIZE, SIZE),\n",
    "  batch_size=BATCH_SIZE,\n",
    "  shuffle = True,\n",
    "  class_mode= 'categorical', #'sparse' #',\n",
    "  classes= LIMIT_SAMPLE_TO_FINDINGS,\n",
    "  subset=\"validation\"\n",
    ")\n",
    "## SET UP CLASS WEIGHTS TO ACCOUNT FOR IMBALANCED DATASET\n",
    "counter = Counter(data_generator.classes)                          \n",
    "max_val = float(max(counter.values()))  \n",
    "class_weights = {class_id : max_val/num_images for class_id, num_images in counter.items()}      \n",
    "\n",
    "TOTAL_SAMPLES=sum(counter.values())\n",
    "class_weights, counter,  data_generator.class_indices, TOTAL_SAMPLES, data_generator.num_classes\n"
   ]
  },
  {
   "cell_type": "code",
   "execution_count": 17,
   "metadata": {},
   "outputs": [
    {
     "name": "stdout",
     "output_type": "stream",
     "text": [
      "Found 15387 files belonging to 6 classes.\n"
     ]
    },
    {
     "data": {
      "text/plain": [
       "['Cardiomegaly', 'Effusion', 'Fibrosis', 'Infiltration', 'Mass', 'No Finding']"
      ]
     },
     "execution_count": 17,
     "metadata": {},
     "output_type": "execute_result"
    }
   ],
   "source": [
    "tfds = tf.keras.utils.image_dataset_from_directory('dicom/NIH_subset',\n",
    "  label_mode='categorical' )\n",
    "tfds.class_names\n",
    "tfds."
   ]
  },
  {
   "cell_type": "code",
   "execution_count": null,
   "metadata": {},
   "outputs": [],
   "source": [
    "\n",
    "# # images, labels = getImagesAndLabels(total_df)\n",
    "\n",
    "# datagen = ImageDataGenerator(rescale=1./255) #when we flow images, we want them scaled - this fuction can also be used for data augmentation\n",
    "# generator = datagen.flow_from_directory(\n",
    "#         WORKING_DIR_TS+'dicom/NIH_subset/',\n",
    "#         target_size=(SIZE, SIZE),\n",
    "#         class_mode='categorical')\n",
    "# # generator.image_shape,generator.class_indices,generator.labels[:5],generator.samples\n",
    "# generator.next()"
   ]
  },
  {
   "cell_type": "code",
   "execution_count": null,
   "metadata": {},
   "outputs": [],
   "source": [
    "# from sklearn.model_selection import train_test_split\n",
    "# train_images, test_images, train_labels,  test_labels = train_test_split(images, labels, random_state=0, test_size = 0.2, stratify=labels)\n",
    "# train_labels[:5]"
   ]
  },
  {
   "cell_type": "code",
   "execution_count": null,
   "metadata": {},
   "outputs": [],
   "source": [
    "# #Show the split between train and test sets.  By setting Straify = Labels it should keep the values proportional\n",
    "# unique_labels, train_labels_counts = np.unique(train_labels, return_counts=True)\n",
    "# #Show the split between train and test sets.  By setting Straify = Labels it should keep the values proportional\n",
    "# unique_labels, train_labels_counts ,np.unique(test_labels, return_counts=True), unique_labels.size\n"
   ]
  },
  {
   "cell_type": "code",
   "execution_count": null,
   "metadata": {},
   "outputs": [],
   "source": [
    "# encode labels, ie from 'No Finding', 'Fibrosis', ... ====> 0, 1, ...\n",
    "label_encoder = preprocessing.LabelEncoder()\n",
    "label_encoder.fit(test_labels)\n",
    "test_labels_encoded = label_encoder.transform(test_labels)\n",
    "label_encoder.fit(train_labels)\n",
    "train_labels_encoded = label_encoder.transform(train_labels)\n",
    "label_encoder.classes_,train_labels[:5],train_labels_encoded[:5]"
   ]
  },
  {
   "cell_type": "code",
   "execution_count": null,
   "metadata": {},
   "outputs": [],
   "source": [
    "#Rename to standard naming conventions\n",
    "# x_train, y_train, x_test, y_test = train_images, train_labels_encoded, test_images, test_labels_encoded"
   ]
  },
  {
   "cell_type": "markdown",
   "metadata": {},
   "source": [
    "##### RESCALE AND FORMAT DATA"
   ]
  },
  {
   "cell_type": "code",
   "execution_count": null,
   "metadata": {},
   "outputs": [],
   "source": [
    "\n",
    "# # Normalize pixel values to between 0 and 1\n",
    "# x_train, x_test = x_train / 255.0, x_test / 255.0\n",
    "# x_train.shape"
   ]
  },
  {
   "cell_type": "code",
   "execution_count": null,
   "metadata": {},
   "outputs": [],
   "source": [
    "# One hot encode y values for neural network. \n",
    "# Not currently used.  Will keep in case want to used in futures.\n",
    "y_train_one_hot = keras.utils.to_categorical(y_train)\n",
    "y_test_one_hot = keras.utils.to_categorical(y_test)\n",
    "y_train_one_hot"
   ]
  },
  {
   "cell_type": "markdown",
   "metadata": {},
   "source": [
    "##### TRANSFER LEARNING  LOAD PRETRAINED KERAS APPLICATION"
   ]
  },
  {
   "cell_type": "code",
   "execution_count": 10,
   "metadata": {},
   "outputs": [
    {
     "name": "stdout",
     "output_type": "stream",
     "text": [
      "(512, 512)\n"
     ]
    },
    {
     "name": "stderr",
     "output_type": "stream",
     "text": [
      "2022-08-20 13:17:01.314365: I tensorflow/core/platform/cpu_feature_guard.cc:193] This TensorFlow binary is optimized with oneAPI Deep Neural Network Library (oneDNN) to use the following CPU instructions in performance-critical operations:  SSE4.1 SSE4.2 AVX\n",
      "To enable them in other operations, rebuild TensorFlow with the appropriate compiler flags.\n"
     ]
    }
   ],
   "source": [
    "#Load model without output classifier/fully connected layers, set input shape to our custom SIZE \n",
    "#This will act as a \"feature detector\"\n",
    "IMAGE_SHAPE = (SIZE, SIZE)\n",
    "print(IMAGE_SHAPE)\n",
    "base_model = tf.keras.applications.InceptionV3(weights='imagenet', include_top=False,  input_shape=(SIZE,SIZE,3), pooling='max')\n",
    "base_model.trainable = False\n",
    "inputs = keras.Input(shape=(SIZE, SIZE, 3))\n",
    "# We make sure that the base_model is running in inference mode here\n",
    "# by passing `training=False`. This is important for fine-tuning, as you will\n",
    "# learn in a few paragraphs.\n",
    "intermediate_outputs = base_model(inputs, training=False)\n",
    "#base_model.summary()\n"
   ]
  },
  {
   "cell_type": "markdown",
   "metadata": {},
   "source": [
    "##### CREATE OUTPUT LAYERS AND ADD TO THE BASE MODEL"
   ]
  },
  {
   "cell_type": "code",
   "execution_count": 11,
   "metadata": {},
   "outputs": [
    {
     "name": "stdout",
     "output_type": "stream",
     "text": [
      "Model outputs categories/labels:  3\n",
      "Model: \"model\"\n",
      "_________________________________________________________________\n",
      " Layer (type)                Output Shape              Param #   \n",
      "=================================================================\n",
      " input_2 (InputLayer)        [(None, 512, 512, 3)]     0         \n",
      "                                                                 \n",
      " inception_v3 (Functional)   (None, 2048)              21802784  \n",
      "                                                                 \n",
      " dense (Dense)               (None, 3)                 6147      \n",
      "                                                                 \n",
      "=================================================================\n",
      "Total params: 21,808,931\n",
      "Trainable params: 6,147\n",
      "Non-trainable params: 21,802,784\n",
      "_________________________________________________________________\n"
     ]
    }
   ],
   "source": [
    "### CREATE A SVM (SUPPORT VECTOR MACHINE) FOR CLASSIFYING\n",
    "### SVM example: https://github.com/krishnaik06/Complete-Deep-Learning/blob/master/Image%20Classification%20Using%20SVM.ipynb\n",
    "# # #FLATTEN - MAY NOT BE NEEDED WITH SOME BASE MODELS DEPENDING OUT OUTPUT SHAPE, COULD DO GLOBALMAXPOOLING INSTEAD\n",
    "# # x = keras.layers.Flatten()(x)\n",
    "# # # Make Fully Connection Layer\n",
    "# x = keras.layers.Dense(units=16, activation='relu')(intermediate_outputs)\n",
    "# # USE LINEAR CLASSIFICATION FOR A BINARY CLASSIFIER\n",
    "# outputs = keras.layers.Dense(1, kernel_regularizer=tf.keras.regularizers.l2(0.01),activation='linear')(x) \n",
    "# # # USE LINEAR CLASSIFICATION FOR A BINARY CLASSIFIER\n",
    "# # outputs = keras.layers.Dense(XXXXCATEGORYNUMBER, kernel_regularizer=tf.keras.regularizers.l2(0.01),activation='softmax')(x) \n",
    "\n",
    "\n",
    "### Create a simple final dense NN layer\n",
    "outputs = tf.keras.layers.Dense( data_generator.num_classes, activation = tf.keras.activations.softmax)(intermediate_outputs)\n",
    "print(\"Model outputs categories/labels: \", data_generator.num_classes)\n",
    "\n",
    "### CREATE OUR FINAL MODEL\n",
    "model = keras.Model(inputs, outputs)\n",
    "\n",
    "# #Make loaded layers as non-trainable. This is important as we want to work with pre-trained weights\n",
    "# for layer in model.layers:\n",
    "# \tlayer.trainable = False\n",
    "model.summary()  #Trainable parameters will be 0"
   ]
  },
  {
   "cell_type": "code",
   "execution_count": 12,
   "metadata": {},
   "outputs": [],
   "source": [
    "# COMPILING THE CNN\n",
    "model.compile(\n",
    "  optimizer = 'adam', \n",
    "  loss=tf.keras.losses.CategoricalCrossentropy(),#  logits=TrUe /// loss = 'hinge', \n",
    "  metrics = ['accuracy']) #'sparse_categorical_crossentropy'"
   ]
  },
  {
   "cell_type": "code",
   "execution_count": null,
   "metadata": {},
   "outputs": [],
   "source": [
    "# SAVE CHECKPOINTS\n",
    "# generate path wehere you want to save your checkpoints\n",
    "checkpoint_path = f\"checkpoints/{getTimeStamp()}_weights.h5\"\n",
    "# define a callback that will save the model weights after every epoch \n",
    "model_checkpoint_callback = tf.keras.callbacks.ModelCheckpoint(\n",
    "  filepath=checkpoint_path,\n",
    "  #save_weights_only=True,\n",
    "  monitor='val_accuracy',\n",
    "  mode='max',\n",
    "  verbose=1,\n",
    "  save_best_only=True)"
   ]
  },
  {
   "cell_type": "code",
   "execution_count": 20,
   "metadata": {},
   "outputs": [
    {
     "name": "stdout",
     "output_type": "stream",
     "text": [
      "349\n",
      "15/15 [==============================] - ETA: 0s - loss: 2.6411 - accuracy: 0.3292 \n",
      "Epoch 1: val_accuracy improved from -inf to 0.31068, saving model to checkpoints/0820-131717_weights.h5\n",
      "15/15 [==============================] - 1318s 93s/step - loss: 2.6411 - accuracy: 0.3292 - val_loss: 1.5224 - val_accuracy: 0.3107\n"
     ]
    }
   ],
   "source": [
    "#Train the CNN model, note:batch size is set in the generator\n",
    "steps_per_epoch = int(TOTAL_SAMPLES/BATCH_SIZE)\n",
    "print(steps_per_epoch);\n",
    "history = model.fit(\n",
    "  train_data_generator,\n",
    "  validation_data=val_data_generator,\n",
    "  epochs=EPOCHS, \n",
    "  steps_per_epoch=steps_per_epoch,\n",
    "  class_weight=class_weights,\n",
    "  # validation_data = (x_test, y_test), \n",
    "  callbacks=[model_checkpoint_callback])"
   ]
  },
  {
   "cell_type": "code",
   "execution_count": 21,
   "metadata": {},
   "outputs": [],
   "source": [
    "## load model weights from file\n",
    "if(False): ##I don't want this to run noramlly\n",
    "  new_model = keras.models.load_model(checkpoint_path)\n",
    "    # assert_allclose(model.predict(x_train), new_model.predict(x_train), 1e-5)\n",
    "  # continue fitting the model\n",
    "  # generate a new path wehere you want to save your checkpoints\n",
    "  checkpoint_path = f\"checkpoints/{getTimeStamp()}_weights.h5\"\n",
    "  # define a callback wutg the new path name\n",
    "  model_checkpoint_callback = tf.keras.callbacks.ModelCheckpoint(\n",
    "    filepath=checkpoint_path,\n",
    "    save_weights_only=True,\n",
    "    monitor='val_accuracy',\n",
    "    mode='max',\n",
    "    verbose=1,\n",
    "    save_best_only=True)\n",
    "  ##RESTART TRAINING\n",
    "  history = new_model.fit( \n",
    "    x_train, y_train, \n",
    "    epochs=EPOCHS, \n",
    "    batch_size=BATCH_SIZE, \n",
    "    validation_data = (x_test, y_test), \n",
    "    callbacks=[model_checkpoint_callback])\n",
    "model= keras.models.load_model(checkpoint_path)"
   ]
  },
  {
   "cell_type": "code",
   "execution_count": 22,
   "metadata": {},
   "outputs": [
    {
     "name": "stdout",
     "output_type": "stream",
     "text": [
      "dict_keys(['loss', 'accuracy', 'val_loss', 'val_accuracy'])\n"
     ]
    },
    {
     "data": {
      "image/png": "[encoded data removed]",
      "text/plain": [
       "<Figure size 1080x360 with 4 Axes>"
      ]
     },
     "metadata": {
      "needs_background": "light"
     },
     "output_type": "display_data"
    }
   ],
   "source": [
    "print(history.history.keys())\n",
    "# summarize training\n",
    "fig, (ax1,bx1), = plt.subplots(1, 2, sharey=True, figsize=(15, 5))\n",
    "l1, = ax1.plot(history.history['loss'], color='blue') \n",
    "ax2 = ax1.twinx()\n",
    "l2, = ax2.plot(history.history['accuracy'], color='red')\n",
    "ax1.set_ylabel('loss' , color='blue')\n",
    "ax2.set_ylabel('accuracy', color='red' )\n",
    "plt.legend([l1, l2], [\"loss\",\"accuracy\" ], loc=\"upper center\")\n",
    "plt.xlabel('epochs')\n",
    "plt.title('Summarize Training')\n",
    "plt.figtext(0.5, 0.01, 'footnote text\\n more text \\n asdf', horizontalalignment='center', fontsize=8)\n",
    "# plt.show()\n",
    "\n",
    "# summarize validation\n",
    "# fig, ax1 = plt.subplots()\n",
    "l1, = bx1.plot(history.history['val_loss'], color='blue') \n",
    "bx2 = bx1.twinx()\n",
    "l2, = bx2.plot(history.history['val_accuracy'], color='red')\n",
    "bx1.set_ylabel('val_loss' , color='blue')\n",
    "bx2.set_ylabel('val_accuracy', color='red' )\n",
    "plt.legend([l1, l2], [\"val_loss\",\"val_accuracy\" ], loc=\"upper center\")\n",
    "plt.xlabel('epochs')\n",
    "plt.title('Summarize Validation')\n",
    "plt.show()\n",
    "\n"
   ]
  },
  {
   "cell_type": "code",
   "execution_count": 25,
   "metadata": {},
   "outputs": [
    {
     "name": "stdout",
     "output_type": "stream",
     "text": [
      " 2/70 [..............................] - ETA: 17:40"
     ]
    },
    {
     "ename": "KeyboardInterrupt",
     "evalue": "",
     "output_type": "error",
     "traceback": [
      "\u001b[0;31m---------------------------------------------------------------------------\u001b[0m",
      "\u001b[0;31mKeyboardInterrupt\u001b[0m                         Traceback (most recent call last)",
      "\u001b[1;32m/Users/white/Documents/AlexProjects/DICOM_OCC_MED/CLSRF_NIH_Main.ipynb Cell 30\u001b[0m in \u001b[0;36m<cell line: 1>\u001b[0;34m()\u001b[0m\n\u001b[0;32m----> <a href='vscode-notebook-cell:/Users/white/Documents/AlexProjects/DICOM_OCC_MED/CLSRF_NIH_Main.ipynb#X60sZmlsZQ%3D%3D?line=0'>1</a>\u001b[0m predictions \u001b[39m=\u001b[39m model\u001b[39m.\u001b[39;49mpredict(val_data_generator)\n",
      "File \u001b[0;32m~/opt/anaconda3/envs/Transfer_Learning/lib/python3.10/site-packages/keras/utils/traceback_utils.py:64\u001b[0m, in \u001b[0;36mfilter_traceback.<locals>.error_handler\u001b[0;34m(*args, **kwargs)\u001b[0m\n\u001b[1;32m     62\u001b[0m filtered_tb \u001b[39m=\u001b[39m \u001b[39mNone\u001b[39;00m\n\u001b[1;32m     63\u001b[0m \u001b[39mtry\u001b[39;00m:\n\u001b[0;32m---> 64\u001b[0m   \u001b[39mreturn\u001b[39;00m fn(\u001b[39m*\u001b[39;49margs, \u001b[39m*\u001b[39;49m\u001b[39m*\u001b[39;49mkwargs)\n\u001b[1;32m     65\u001b[0m \u001b[39mexcept\u001b[39;00m \u001b[39mException\u001b[39;00m \u001b[39mas\u001b[39;00m e:  \u001b[39m# pylint: disable=broad-except\u001b[39;00m\n\u001b[1;32m     66\u001b[0m   filtered_tb \u001b[39m=\u001b[39m _process_traceback_frames(e\u001b[39m.\u001b[39m__traceback__)\n",
      "File \u001b[0;32m~/opt/anaconda3/envs/Transfer_Learning/lib/python3.10/site-packages/keras/engine/training.py:2033\u001b[0m, in \u001b[0;36mModel.predict\u001b[0;34m(self, x, batch_size, verbose, steps, callbacks, max_queue_size, workers, use_multiprocessing)\u001b[0m\n\u001b[1;32m   2031\u001b[0m \u001b[39mfor\u001b[39;00m step \u001b[39min\u001b[39;00m data_handler\u001b[39m.\u001b[39msteps():\n\u001b[1;32m   2032\u001b[0m   callbacks\u001b[39m.\u001b[39mon_predict_batch_begin(step)\n\u001b[0;32m-> 2033\u001b[0m   tmp_batch_outputs \u001b[39m=\u001b[39m \u001b[39mself\u001b[39;49m\u001b[39m.\u001b[39;49mpredict_function(iterator)\n\u001b[1;32m   2034\u001b[0m   \u001b[39mif\u001b[39;00m data_handler\u001b[39m.\u001b[39mshould_sync:\n\u001b[1;32m   2035\u001b[0m     context\u001b[39m.\u001b[39masync_wait()\n",
      "File \u001b[0;32m~/opt/anaconda3/envs/Transfer_Learning/lib/python3.10/site-packages/tensorflow/python/util/traceback_utils.py:150\u001b[0m, in \u001b[0;36mfilter_traceback.<locals>.error_handler\u001b[0;34m(*args, **kwargs)\u001b[0m\n\u001b[1;32m    148\u001b[0m filtered_tb \u001b[39m=\u001b[39m \u001b[39mNone\u001b[39;00m\n\u001b[1;32m    149\u001b[0m \u001b[39mtry\u001b[39;00m:\n\u001b[0;32m--> 150\u001b[0m   \u001b[39mreturn\u001b[39;00m fn(\u001b[39m*\u001b[39;49margs, \u001b[39m*\u001b[39;49m\u001b[39m*\u001b[39;49mkwargs)\n\u001b[1;32m    151\u001b[0m \u001b[39mexcept\u001b[39;00m \u001b[39mException\u001b[39;00m \u001b[39mas\u001b[39;00m e:\n\u001b[1;32m    152\u001b[0m   filtered_tb \u001b[39m=\u001b[39m _process_traceback_frames(e\u001b[39m.\u001b[39m__traceback__)\n",
      "File \u001b[0;32m~/opt/anaconda3/envs/Transfer_Learning/lib/python3.10/site-packages/tensorflow/python/eager/def_function.py:915\u001b[0m, in \u001b[0;36mFunction.__call__\u001b[0;34m(self, *args, **kwds)\u001b[0m\n\u001b[1;32m    912\u001b[0m compiler \u001b[39m=\u001b[39m \u001b[39m\"\u001b[39m\u001b[39mxla\u001b[39m\u001b[39m\"\u001b[39m \u001b[39mif\u001b[39;00m \u001b[39mself\u001b[39m\u001b[39m.\u001b[39m_jit_compile \u001b[39melse\u001b[39;00m \u001b[39m\"\u001b[39m\u001b[39mnonXla\u001b[39m\u001b[39m\"\u001b[39m\n\u001b[1;32m    914\u001b[0m \u001b[39mwith\u001b[39;00m OptionalXlaContext(\u001b[39mself\u001b[39m\u001b[39m.\u001b[39m_jit_compile):\n\u001b[0;32m--> 915\u001b[0m   result \u001b[39m=\u001b[39m \u001b[39mself\u001b[39;49m\u001b[39m.\u001b[39;49m_call(\u001b[39m*\u001b[39;49margs, \u001b[39m*\u001b[39;49m\u001b[39m*\u001b[39;49mkwds)\n\u001b[1;32m    917\u001b[0m new_tracing_count \u001b[39m=\u001b[39m \u001b[39mself\u001b[39m\u001b[39m.\u001b[39mexperimental_get_tracing_count()\n\u001b[1;32m    918\u001b[0m without_tracing \u001b[39m=\u001b[39m (tracing_count \u001b[39m==\u001b[39m new_tracing_count)\n",
      "File \u001b[0;32m~/opt/anaconda3/envs/Transfer_Learning/lib/python3.10/site-packages/tensorflow/python/eager/def_function.py:954\u001b[0m, in \u001b[0;36mFunction._call\u001b[0;34m(self, *args, **kwds)\u001b[0m\n\u001b[1;32m    951\u001b[0m \u001b[39mself\u001b[39m\u001b[39m.\u001b[39m_lock\u001b[39m.\u001b[39mrelease()\n\u001b[1;32m    952\u001b[0m \u001b[39m# In this case we have not created variables on the first call. So we can\u001b[39;00m\n\u001b[1;32m    953\u001b[0m \u001b[39m# run the first trace but we should fail if variables are created.\u001b[39;00m\n\u001b[0;32m--> 954\u001b[0m results \u001b[39m=\u001b[39m \u001b[39mself\u001b[39;49m\u001b[39m.\u001b[39;49m_stateful_fn(\u001b[39m*\u001b[39;49margs, \u001b[39m*\u001b[39;49m\u001b[39m*\u001b[39;49mkwds)\n\u001b[1;32m    955\u001b[0m \u001b[39mif\u001b[39;00m \u001b[39mself\u001b[39m\u001b[39m.\u001b[39m_created_variables \u001b[39mand\u001b[39;00m \u001b[39mnot\u001b[39;00m ALLOW_DYNAMIC_VARIABLE_CREATION:\n\u001b[1;32m    956\u001b[0m   \u001b[39mraise\u001b[39;00m \u001b[39mValueError\u001b[39;00m(\u001b[39m\"\u001b[39m\u001b[39mCreating variables on a non-first call to a function\u001b[39m\u001b[39m\"\u001b[39m\n\u001b[1;32m    957\u001b[0m                    \u001b[39m\"\u001b[39m\u001b[39m decorated with tf.function.\u001b[39m\u001b[39m\"\u001b[39m)\n",
      "File \u001b[0;32m~/opt/anaconda3/envs/Transfer_Learning/lib/python3.10/site-packages/tensorflow/python/eager/function.py:2453\u001b[0m, in \u001b[0;36mFunction.__call__\u001b[0;34m(self, *args, **kwargs)\u001b[0m\n\u001b[1;32m   2450\u001b[0m \u001b[39mwith\u001b[39;00m \u001b[39mself\u001b[39m\u001b[39m.\u001b[39m_lock:\n\u001b[1;32m   2451\u001b[0m   (graph_function,\n\u001b[1;32m   2452\u001b[0m    filtered_flat_args) \u001b[39m=\u001b[39m \u001b[39mself\u001b[39m\u001b[39m.\u001b[39m_maybe_define_function(args, kwargs)\n\u001b[0;32m-> 2453\u001b[0m \u001b[39mreturn\u001b[39;00m graph_function\u001b[39m.\u001b[39;49m_call_flat(\n\u001b[1;32m   2454\u001b[0m     filtered_flat_args, captured_inputs\u001b[39m=\u001b[39;49mgraph_function\u001b[39m.\u001b[39;49mcaptured_inputs)\n",
      "File \u001b[0;32m~/opt/anaconda3/envs/Transfer_Learning/lib/python3.10/site-packages/tensorflow/python/eager/function.py:1860\u001b[0m, in \u001b[0;36mConcreteFunction._call_flat\u001b[0;34m(self, args, captured_inputs, cancellation_manager)\u001b[0m\n\u001b[1;32m   1856\u001b[0m possible_gradient_type \u001b[39m=\u001b[39m gradients_util\u001b[39m.\u001b[39mPossibleTapeGradientTypes(args)\n\u001b[1;32m   1857\u001b[0m \u001b[39mif\u001b[39;00m (possible_gradient_type \u001b[39m==\u001b[39m gradients_util\u001b[39m.\u001b[39mPOSSIBLE_GRADIENT_TYPES_NONE\n\u001b[1;32m   1858\u001b[0m     \u001b[39mand\u001b[39;00m executing_eagerly):\n\u001b[1;32m   1859\u001b[0m   \u001b[39m# No tape is watching; skip to running the function.\u001b[39;00m\n\u001b[0;32m-> 1860\u001b[0m   \u001b[39mreturn\u001b[39;00m \u001b[39mself\u001b[39m\u001b[39m.\u001b[39m_build_call_outputs(\u001b[39mself\u001b[39;49m\u001b[39m.\u001b[39;49m_inference_function\u001b[39m.\u001b[39;49mcall(\n\u001b[1;32m   1861\u001b[0m       ctx, args, cancellation_manager\u001b[39m=\u001b[39;49mcancellation_manager))\n\u001b[1;32m   1862\u001b[0m forward_backward \u001b[39m=\u001b[39m \u001b[39mself\u001b[39m\u001b[39m.\u001b[39m_select_forward_and_backward_functions(\n\u001b[1;32m   1863\u001b[0m     args,\n\u001b[1;32m   1864\u001b[0m     possible_gradient_type,\n\u001b[1;32m   1865\u001b[0m     executing_eagerly)\n\u001b[1;32m   1866\u001b[0m forward_function, args_with_tangents \u001b[39m=\u001b[39m forward_backward\u001b[39m.\u001b[39mforward()\n",
      "File \u001b[0;32m~/opt/anaconda3/envs/Transfer_Learning/lib/python3.10/site-packages/tensorflow/python/eager/function.py:497\u001b[0m, in \u001b[0;36m_EagerDefinedFunction.call\u001b[0;34m(self, ctx, args, cancellation_manager)\u001b[0m\n\u001b[1;32m    495\u001b[0m \u001b[39mwith\u001b[39;00m _InterpolateFunctionError(\u001b[39mself\u001b[39m):\n\u001b[1;32m    496\u001b[0m   \u001b[39mif\u001b[39;00m cancellation_manager \u001b[39mis\u001b[39;00m \u001b[39mNone\u001b[39;00m:\n\u001b[0;32m--> 497\u001b[0m     outputs \u001b[39m=\u001b[39m execute\u001b[39m.\u001b[39;49mexecute(\n\u001b[1;32m    498\u001b[0m         \u001b[39mstr\u001b[39;49m(\u001b[39mself\u001b[39;49m\u001b[39m.\u001b[39;49msignature\u001b[39m.\u001b[39;49mname),\n\u001b[1;32m    499\u001b[0m         num_outputs\u001b[39m=\u001b[39;49m\u001b[39mself\u001b[39;49m\u001b[39m.\u001b[39;49m_num_outputs,\n\u001b[1;32m    500\u001b[0m         inputs\u001b[39m=\u001b[39;49margs,\n\u001b[1;32m    501\u001b[0m         attrs\u001b[39m=\u001b[39;49mattrs,\n\u001b[1;32m    502\u001b[0m         ctx\u001b[39m=\u001b[39;49mctx)\n\u001b[1;32m    503\u001b[0m   \u001b[39melse\u001b[39;00m:\n\u001b[1;32m    504\u001b[0m     outputs \u001b[39m=\u001b[39m execute\u001b[39m.\u001b[39mexecute_with_cancellation(\n\u001b[1;32m    505\u001b[0m         \u001b[39mstr\u001b[39m(\u001b[39mself\u001b[39m\u001b[39m.\u001b[39msignature\u001b[39m.\u001b[39mname),\n\u001b[1;32m    506\u001b[0m         num_outputs\u001b[39m=\u001b[39m\u001b[39mself\u001b[39m\u001b[39m.\u001b[39m_num_outputs,\n\u001b[0;32m   (...)\u001b[0m\n\u001b[1;32m    509\u001b[0m         ctx\u001b[39m=\u001b[39mctx,\n\u001b[1;32m    510\u001b[0m         cancellation_manager\u001b[39m=\u001b[39mcancellation_manager)\n",
      "File \u001b[0;32m~/opt/anaconda3/envs/Transfer_Learning/lib/python3.10/site-packages/tensorflow/python/eager/execute.py:54\u001b[0m, in \u001b[0;36mquick_execute\u001b[0;34m(op_name, num_outputs, inputs, attrs, ctx, name)\u001b[0m\n\u001b[1;32m     52\u001b[0m \u001b[39mtry\u001b[39;00m:\n\u001b[1;32m     53\u001b[0m   ctx\u001b[39m.\u001b[39mensure_initialized()\n\u001b[0;32m---> 54\u001b[0m   tensors \u001b[39m=\u001b[39m pywrap_tfe\u001b[39m.\u001b[39;49mTFE_Py_Execute(ctx\u001b[39m.\u001b[39;49m_handle, device_name, op_name,\n\u001b[1;32m     55\u001b[0m                                       inputs, attrs, num_outputs)\n\u001b[1;32m     56\u001b[0m \u001b[39mexcept\u001b[39;00m core\u001b[39m.\u001b[39m_NotOkStatusException \u001b[39mas\u001b[39;00m e:\n\u001b[1;32m     57\u001b[0m   \u001b[39mif\u001b[39;00m name \u001b[39mis\u001b[39;00m \u001b[39mnot\u001b[39;00m \u001b[39mNone\u001b[39;00m:\n",
      "\u001b[0;31mKeyboardInterrupt\u001b[0m: "
     ]
    }
   ],
   "source": [
    "predictions = model.predict(val_data_generator) "
   ]
  },
  {
   "cell_type": "markdown",
   "metadata": {},
   "source": [
    "##### EXTRACT FEATURES USING THE PRETRAINED CNN"
   ]
  },
  {
   "cell_type": "code",
   "execution_count": null,
   "metadata": {},
   "outputs": [],
   "source": [
    "#Send test data through the model to get the output values\n",
    "X_test_feature = model.predict(x_test)\n",
    "\n",
    "# X_test_features = X_test_feature.reshape(X_test_feature.shape[0], -1)"
   ]
  },
  {
   "cell_type": "code",
   "execution_count": null,
   "metadata": {},
   "outputs": [],
   "source": [
    "X_test_feature[:9],X_test_feature.shape\n",
    "flattened = X_test_feature.argmax(axis=1)"
   ]
  },
  {
   "cell_type": "markdown",
   "metadata": {},
   "source": [
    "MAKE A RANDOM FOREST LAYER"
   ]
  },
  {
   "cell_type": "code",
   "execution_count": null,
   "metadata": {},
   "outputs": [],
   "source": [
    "\n",
    "RF_model = RandomForestClassifier(n_estimators = 50, random_state = 42)\n",
    "\n",
    "# Train the model on training data\n",
    "RF_model.fit(X_for_RF, y_train) #For sklearn no one hot encoding"
   ]
  },
  {
   "cell_type": "code",
   "execution_count": null,
   "metadata": {},
   "outputs": [],
   "source": [
    "#Now predict using the trained RF model. \n",
    "prediction_RF = RF_model.predict(X_test_features)\n",
    "#Inverse le transform to get original label back. \n",
    "prediction_RF = label_encoder.inverse_transform(prediction_RF)"
   ]
  },
  {
   "cell_type": "code",
   "execution_count": 24,
   "metadata": {},
   "outputs": [
    {
     "ename": "NameError",
     "evalue": "name 'test_labels' is not defined",
     "output_type": "error",
     "traceback": [
      "\u001b[0;31m---------------------------------------------------------------------------\u001b[0m",
      "\u001b[0;31mNameError\u001b[0m                                 Traceback (most recent call last)",
      "\u001b[1;32m/Users/white/Documents/AlexProjects/DICOM_OCC_MED/CLSRF_NIH_Main.ipynb Cell 36\u001b[0m in \u001b[0;36m<cell line: 2>\u001b[0;34m()\u001b[0m\n\u001b[1;32m      <a href='vscode-notebook-cell:/Users/white/Documents/AlexProjects/DICOM_OCC_MED/CLSRF_NIH_Main.ipynb#X41sZmlsZQ%3D%3D?line=0'>1</a>\u001b[0m \u001b[39m#Print overall accuracy\u001b[39;00m\n\u001b[0;32m----> <a href='vscode-notebook-cell:/Users/white/Documents/AlexProjects/DICOM_OCC_MED/CLSRF_NIH_Main.ipynb#X41sZmlsZQ%3D%3D?line=1'>2</a>\u001b[0m accuracy \u001b[39m=\u001b[39m metrics\u001b[39m.\u001b[39maccuracy_score(test_labels, prediction_RF)\n\u001b[1;32m      <a href='vscode-notebook-cell:/Users/white/Documents/AlexProjects/DICOM_OCC_MED/CLSRF_NIH_Main.ipynb#X41sZmlsZQ%3D%3D?line=2'>3</a>\u001b[0m \u001b[39mprint\u001b[39m (\u001b[39m\"\u001b[39m\u001b[39mAccuracy = \u001b[39m\u001b[39m\"\u001b[39m, accuracy)\n",
      "\u001b[0;31mNameError\u001b[0m: name 'test_labels' is not defined"
     ]
    }
   ],
   "source": [
    "#Print overall accuracy\n",
    "accuracy = metrics.accuracy_score(test_labels, prediction_RF)\n",
    "print (\"Accuracy = \", accuracy)"
   ]
  },
  {
   "cell_type": "code",
   "execution_count": 23,
   "metadata": {},
   "outputs": [
    {
     "ename": "NameError",
     "evalue": "name 'test_labels' is not defined",
     "output_type": "error",
     "traceback": [
      "\u001b[0;31m---------------------------------------------------------------------------\u001b[0m",
      "\u001b[0;31mNameError\u001b[0m                                 Traceback (most recent call last)",
      "\u001b[1;32m/Users/white/Documents/AlexProjects/DICOM_OCC_MED/CLSRF_NIH_Main.ipynb Cell 37\u001b[0m in \u001b[0;36m<cell line: 3>\u001b[0;34m()\u001b[0m\n\u001b[1;32m      <a href='vscode-notebook-cell:/Users/white/Documents/AlexProjects/DICOM_OCC_MED/CLSRF_NIH_Main.ipynb#X42sZmlsZQ%3D%3D?line=0'>1</a>\u001b[0m \u001b[39m# from sklearn.metrics import confusion_matrix\u001b[39;00m\n\u001b[1;32m      <a href='vscode-notebook-cell:/Users/white/Documents/AlexProjects/DICOM_OCC_MED/CLSRF_NIH_Main.ipynb#X42sZmlsZQ%3D%3D?line=1'>2</a>\u001b[0m \u001b[39m#Confusion Matrix - verify accuracy of each class\u001b[39;00m\n\u001b[0;32m----> <a href='vscode-notebook-cell:/Users/white/Documents/AlexProjects/DICOM_OCC_MED/CLSRF_NIH_Main.ipynb#X42sZmlsZQ%3D%3D?line=2'>3</a>\u001b[0m cm \u001b[39m=\u001b[39m metrics\u001b[39m.\u001b[39mconfusion_matrix(test_labels, prediction_RF)\n\u001b[1;32m      <a href='vscode-notebook-cell:/Users/white/Documents/AlexProjects/DICOM_OCC_MED/CLSRF_NIH_Main.ipynb#X42sZmlsZQ%3D%3D?line=3'>4</a>\u001b[0m \u001b[39m#print(cm)\u001b[39;00m\n\u001b[1;32m      <a href='vscode-notebook-cell:/Users/white/Documents/AlexProjects/DICOM_OCC_MED/CLSRF_NIH_Main.ipynb#X42sZmlsZQ%3D%3D?line=4'>5</a>\u001b[0m heatmap \u001b[39m=\u001b[39msns\u001b[39m.\u001b[39mheatmap(cm, annot\u001b[39m=\u001b[39m\u001b[39mTrue\u001b[39;00m)\n",
      "\u001b[0;31mNameError\u001b[0m: name 'test_labels' is not defined"
     ]
    }
   ],
   "source": [
    "# from sklearn.metrics import confusion_matrix\n",
    "#Confusion Matrix - verify accuracy of each class\n",
    "cm = metrics.confusion_matrix(test_labels, prediction_RF)\n",
    "#print(cm)\n",
    "heatmap =sns.heatmap(cm, annot=True)"
   ]
  },
  {
   "cell_type": "code",
   "execution_count": null,
   "metadata": {},
   "outputs": [],
   "source": []
  },
  {
   "cell_type": "code",
   "execution_count": null,
   "metadata": {},
   "outputs": [],
   "source": [
    "\n",
    "#Save confusion matrix\n",
    "heatmap.get_figure().savefig(f\"confusion_matrices/{getTimeStamp()}_VGG16-RF_cats{cm.shape[0]}-{MAX_NUMBER_OF_EACH_FINDING}-{NUMBER_OF_EACH_FINDING_RESERVED_FOR_TESTING}_size{SIZE}_acc{round(accuracy,2)}.png\")"
   ]
  },
  {
   "cell_type": "code",
   "execution_count": null,
   "metadata": {},
   "outputs": [],
   "source": [
    "#Check results on a few select images\n",
    "n=np.random.randint(0, x_test.shape[0])\n",
    "img = x_test[n]\n",
    "plt.imshow(img)\n",
    "input_img = np.expand_dims(img, axis=0) #Expand dims so the input is (num images, x, y, c)\n",
    "input_img_feature=model.predict(input_img)\n",
    "input_img_features=input_img_feature.reshape(input_img_feature.shape[0], -1)\n",
    "prediction_RF = RF_model.predict(input_img_features)[0] \n",
    "prediction_RF = label_encoder.inverse_transform([prediction_RF])  #Reverse the label encoder to original name\n",
    "print(\"The prediction for this image is: \", prediction_RF)\n",
    "print(\"The actual label for this image is: \", test_labels[n])"
   ]
  }
 ],
 "metadata": {
  "kernelspec": {
   "display_name": "Python 3.10.5 ('Transfer_Learning')",
   "language": "python",
   "name": "python3"
  },
  "language_info": {
   "codemirror_mode": {
    "name": "ipython",
    "version": 3
   },
   "file_extension": ".py",
   "mimetype": "text/x-python",
   "name": "python",
   "nbconvert_exporter": "python",
   "pygments_lexer": "ipython3",
   "version": "3.10.5"
  },
  "orig_nbformat": 4,
  "vscode": {
   "interpreter": {
    "hash": "342dfa87ede328b7be74dd9e2a5befe9fb3b3b15191910f7b9d300f82b7ef8a8"
   }
  }
 },
 "nbformat": 4,
 "nbformat_minor": 2
}

{
 "cells": [
  {
   "cell_type": "code",
   "execution_count": 59,
   "metadata": {},
   "outputs": [],
   "source": [
    "import pandas as pd\n",
    "import os\n",
    "import shutil"
   ]
  },
  {
   "cell_type": "code",
   "execution_count": 54,
   "metadata": {},
   "outputs": [
    {
     "name": "stdout",
     "output_type": "stream",
     "text": [
      "Shape of full dataset: (67310, 11)\n",
      "NUMBER OF PA STUDIES WITH FINDING\n",
      "No Finding      39302\n",
      "Infiltration     5270\n",
      "Effusion         2086\n",
      "Mass             1367\n",
      "Cardiomegaly      746\n",
      "Fibrosis          648\n",
      "Name: Finding Labels, dtype: int64\n",
      "Shape of final dataset: (15387, 11)\n",
      "FINAL NUMBER\n",
      "No Finding      5270\n",
      "Infiltration    5270\n",
      "Effusion        2086\n",
      "Mass            1367\n",
      "Cardiomegaly     746\n",
      "Fibrosis         648\n",
      "Name: Finding Labels, dtype: int64\n"
     ]
    }
   ],
   "source": [
    "\n",
    "# folders =['No Finding','Infiltration','Atelectasis','Effusion','Nodule','Pneumothorax','Pneumonia','Mass','Consolidation','Pleural_Thickening','Cardiomegaly','Fibrosis','Edema','Emphysema','Multiple']\n",
    "findings_of_interest =['Fibrosis','Effusion','Mass','Infiltration','Cardiomegaly','No Finding']\n",
    "MAX_NUMBER_OF_EACH_FINDING = 5270\n",
    "df = pd.read_csv('Data_Entry_2017_v2020.csv')\n",
    "df = df[df['Patient Age']<100] #removing datapoints which having age greater than 100\n",
    "df = df[df['View Position'] == 'PA'] #Fileter just for PA view images (exclude AP)\n",
    "print(f\"Shape of full dataset: {df.shape}\")\n",
    "fullMatrchString=\"|\".join(findings_of_interest)\n",
    "filtered_df = df[df['Finding Labels'].str.fullmatch(fullMatrchString)];\n",
    "print(f\"NUMBER OF PA STUDIES WITH FINDING\\n{ filtered_df['Finding Labels'].value_counts()}\")  \n",
    "final_df=filtered_df.groupby('Finding Labels').head(MAX_NUMBER_OF_EACH_FINDING) ### cut \n",
    "print(f\"Shape of final dataset: {final_df.shape}\")\n",
    "final_df.to_csv(\"NIH_filtered_subset.csv\");\n",
    "print(f\"FINAL NUMBER\\n{ final_df['Finding Labels'].value_counts()}\") \n",
    "\n",
    "\n"
   ]
  },
  {
   "cell_type": "code",
   "execution_count": 22,
   "metadata": {},
   "outputs": [],
   "source": [
    "working_dir = os.getcwd() \n",
    "folder_path= os.path.join( working_dir, 'dicom/NIH_subset')\n",
    "for name in findings_of_interest: \n",
    "  os.mkdir(os.path.join(folder_path,name))\n"
   ]
  },
  {
   "cell_type": "code",
   "execution_count": 64,
   "metadata": {},
   "outputs": [],
   "source": [
    "\n",
    "# final_df.head()\n",
    "# final_df.columns = final_df.columns.str.replace(' ','_')\n",
    "for index, row in final_df.iterrows():\n",
    "  # print(row)\n",
    "  source= f\"{working_dir}/dicom/NIH_images/{row['Image Index']}\"\n",
    "  dest = f\"{working_dir}/dicom/NIH_subset/{row['Finding Labels']}/{row['Image Index']}\"\n",
    "  # print(source,dest)\n",
    "  shutil.copy(source,dest)"
   ]
  },
  {
   "cell_type": "code",
   "execution_count": null,
   "metadata": {},
   "outputs": [],
   "source": [
    "# import pathlib\n",
    "# list(pathlib.Path(f\"{os.getcwd()}/dicom/NIH_images\").glob('*.png'))"
   ]
  },
  {
   "cell_type": "code",
   "execution_count": null,
   "metadata": {},
   "outputs": [],
   "source": []
  }
 ],
 "metadata": {
  "kernelspec": {
   "display_name": "Python 3.10.5 ('Transfer_Learning')",
   "language": "python",
   "name": "python3"
  },
  "language_info": {
   "codemirror_mode": {
    "name": "ipython",
    "version": 3
   },
   "file_extension": ".py",
   "mimetype": "text/x-python",
   "name": "python",
   "nbconvert_exporter": "python",
   "pygments_lexer": "ipython3",
   "version": "3.10.5"
  },
  "orig_nbformat": 4,
  "vscode": {
   "interpreter": {
    "hash": "342dfa87ede328b7be74dd9e2a5befe9fb3b3b15191910f7b9d300f82b7ef8a8"
   }
  }
 },
 "nbformat": 4,
 "nbformat_minor": 2
}

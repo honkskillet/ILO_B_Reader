{
 "cells": [
  {
   "cell_type": "code",
   "execution_count": null,
   "metadata": {},
   "outputs": [],
   "source": [
    "#METHOD I WROTE FOR COMBINDE OVER/UNDER SAMPLING\n",
    "# DEFINE OUR OVER / UNDER SAMPLING TECHNIQUE.\n",
    "# THE NUMBER OF SAMPLES OF EACH CLASS WILL == OVER_UNDER_SAMPLE_COUNT\n",
    "df = pd.read_csv(WORKING_DIR_TS+'NIH_filtered_subset.csv')\n",
    "# PREFILTER OUT BY AGE RANGE\n",
    "df = df[(df['Patient Age']>=MIN_AGE) & (df['Patient Age']<MAX_AGE)]\n",
    "over_under_sampled_df = pd.DataFrame()\n",
    "for finding in LIMIT_SAMPLE_TO_FINDINGS:\n",
    "  findings_df = df[df['Finding Labels'] == finding]\n",
    "  count = findings_df.shape[0] \n",
    "  sample_df = pd.DataFrame()\n",
    "  if count > OVER_UNDER_SAMPLE_COUNT: ### FOR UNDERSAMPLING\n",
    "    sample_df = findings_df.sample(OVER_UNDER_SAMPLE_COUNT, replace=False, random_state=38)\n",
    "  else:                               ### FOR OVERSAMPLING\n",
    "    for i in range(0, int(OVER_UNDER_SAMPLE_COUNT/count)): # (tracker + count) < OVER_UNDER_SAMPLE_COUNT:    \n",
    "      sample_df=pd.concat([sample_df,findings_df],ignore_index=True) #append the entire dataframe \n",
    "    sample_df= pd.concat([sample_df, findings_df.sample(OVER_UNDER_SAMPLE_COUNT%count, replace=False, random_state=38)],ignore_index=True )# unique sample only\n",
    "  over_under_sampled_df=pd.concat([over_under_sampled_df, sample_df],ignore_index=True)\n",
    "print(f\"NUMBER OF STUDIES WITH FINDING: SAMPLE TARGET - {OVER_UNDER_SAMPLE_COUNT}\\n{ over_under_sampled_df['Finding Labels'].value_counts()}\") \n",
    "df=over_under_sampled_df\n",
    "df.hist(column=\"Patient Age\")\n",
    "df[df['Finding Labels']=='Fibrosis'].hist(column=\"Patient Age\")\n",
    "# df.columns"
   ]
  }
 ],
 "metadata": {
  "kernelspec": {
   "display_name": "Python 3.10.5 ('Transfer_Learning')",
   "language": "python",
   "name": "python3"
  },
  "language_info": {
   "name": "python",
   "version": "3.10.5"
  },
  "orig_nbformat": 4,
  "vscode": {
   "interpreter": {
    "hash": "342dfa87ede328b7be74dd9e2a5befe9fb3b3b15191910f7b9d300f82b7ef8a8"
   }
  }
 },
 "nbformat": 4,
 "nbformat_minor": 2
}

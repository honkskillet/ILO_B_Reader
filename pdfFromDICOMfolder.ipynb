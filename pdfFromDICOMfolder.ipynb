{
 "cells": [
  {
   "cell_type": "code",
   "execution_count": 1,
   "metadata": {},
   "outputs": [],
   "source": [
    "#  dcmpandas installed directly from github with ....\n",
    "#  pip install -e git+https://github.com/dov/dcmpandas#egg=dcmpandas\n",
    "# import dcmpandas as dp\n",
    "# dp.scrape('.')\n",
    "\n",
    "\n",
    "#import matplotlib.pyplot as plt\n",
    "\n",
    "# pip install pydicom\n",
    "# pip install Pillow -U\n",
    "\n",
    "import numpy as np\n",
    "import os\n",
    "import pydicom \n",
    "from  PIL import Image\n"
   ]
  },
  {
   "cell_type": "markdown",
   "metadata": {},
   "source": []
  },
  {
   "cell_type": "code",
   "execution_count": 2,
   "metadata": {},
   "outputs": [
    {
     "name": "stdout",
     "output_type": "stream",
     "text": [
      "PROCESSING DICOM IMAGES\n",
      "./dicom/4EF026C3\n",
      "./dicom/4EF026CD\n",
      "./dicom/4EF026C5\n",
      "./dicom/4EF026CB\n",
      "./dicom/4EF026D4\n",
      "./dicom/4EF026B1\n",
      "./dicom/4EF026AF\n",
      "./dicom/4EF026D2\n",
      "./dicom/4EF026B9\n",
      "./dicom/4EF026B7\n",
      "./dicom/4EF026C9\n",
      "./dicom/4EF026C7\n",
      "./dicom/4EF026C0\n",
      "./dicom/4EF026CF\n",
      "./dicom/4EF026C1\n",
      "./dicom/4EF026B5\n",
      "./dicom/4EF026D0\n",
      "./dicom/4EF026BE\n",
      "./dicom/4EF026B3\n",
      "./dicom/4EF026D8\n",
      "./dicom/4EF026D6\n",
      "./dicom/4EF026BC\n",
      "SAVING TO PDF\n",
      "DONE\n"
     ]
    }
   ],
   "source": [
    "file_names = os.listdir('./dicom')\n",
    "print('PROCESSING DICOM IMAGES')\n",
    "images = [] # empty array to be filled\n",
    "for f in file_names:\n",
    "  print(\"./dicom/\" + f)\n",
    "  dicom = pydicom.dcmread(\"./dicom/\" + f)\n",
    "  image_pixel_array = dicom.pixel_array.astype(float)\n",
    "  rescaled_image_pixel_array = (np.maximum(image_pixel_array,0)/image_pixel_array.max())*255 # float pixels\n",
    "  final_image_pixel_array = np.uint8(rescaled_image_pixel_array) #integer pixels\n",
    "  img = Image.fromarray(final_image_pixel_array)\n",
    "  images.append(img)\n",
    "\n",
    "# SAVE TO PDF FILE  \n",
    "print('SAVING TO PDF')  \n",
    "pdf_path = \"./ILO_Standards.pdf\"   \n",
    "images[0].save(\n",
    "  pdf_path, \"PDF\" ,resolution=100.0, save_all=True, append_images=images[1:]\n",
    ")\n",
    "print('DONE')\n",
    "\n",
    "# finale_image.save('CXR.PNG') #  Saves to file\n",
    "\n"
   ]
  }
 ],
 "metadata": {
  "kernelspec": {
   "display_name": "Python 3.9.12 ('base')",
   "language": "python",
   "name": "python3"
  },
  "language_info": {
   "codemirror_mode": {
    "name": "ipython",
    "version": 3
   },
   "file_extension": ".py",
   "mimetype": "text/x-python",
   "name": "python",
   "nbconvert_exporter": "python",
   "pygments_lexer": "ipython3",
   "version": "3.9.12"
  },
  "orig_nbformat": 4,
  "vscode": {
   "interpreter": {
    "hash": "59c9728de9209d7b0dda9247de55d718f1494ec7265b23bc04b0d63902fd1d3d"
   }
  }
 },
 "nbformat": 4,
 "nbformat_minor": 2
}
